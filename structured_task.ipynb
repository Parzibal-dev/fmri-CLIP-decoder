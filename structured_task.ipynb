{
  "cells": [
    {
      "cell_type": "markdown",
      "metadata": {
        "id": "9-I18dKCEa34"
      },
      "source": [
        "# Structured Tasks"
      ]
    },
    {
      "cell_type": "markdown",
      "metadata": {
        "id": "z7ZvEbwbalzH"
      },
      "source": [
        "# Task 1: Sentence decoding"
      ]
    },
    {
      "cell_type": "markdown",
      "metadata": {
        "id": "0CXG2F4DFF6C"
      },
      "source": [
        "First, we will perform the analasys from the homework assignment 3 question 3 on the Word2vec embedding."
      ]
    },
    {
      "cell_type": "markdown",
      "metadata": {
        "id": "yqJeLGPQFR_F"
      },
      "source": [
        "### Load the data and related files"
      ]
    },
    {
      "cell_type": "code",
      "execution_count": null,
      "metadata": {
        "colab": {
          "base_uri": "https://localhost:8080/"
        },
        "id": "pFm5CRxTZmj4",
        "outputId": "5090c28b-3dff-4b26-f191-28320ee3a46e"
      },
      "outputs": [
        {
          "name": "stdout",
          "output_type": "stream",
          "text": [
            "--2025-06-17 11:50:32--  https://drive.usercontent.google.com/download?id=1xZaorRH-xxjfochvSesAhOTUg82_Xq56&export=download&authuser=0&confirm=t&uuid=efeb9ce5-a5c5-453b-938d-6c0ece963f3c&at=APZUnTV18b5mSao0MQ2JbtpefTxr%3A1719665236172\n",
            "Resolving drive.usercontent.google.com (drive.usercontent.google.com)... 142.251.16.132, 2607:f8b0:4004:c17::84\n",
            "Connecting to drive.usercontent.google.com (drive.usercontent.google.com)|142.251.16.132|:443... connected.\n",
            "HTTP request sent, awaiting response... 200 OK\n",
            "Length: 97708666 (93M) [application/octet-stream]\n",
            "Saving to: ‘files.zip’\n",
            "\n",
            "files.zip           100%[===================>]  93.18M  66.7MB/s    in 1.4s    \n",
            "\n",
            "2025-06-17 11:50:33 (66.7 MB/s) - ‘files.zip’ saved [97708666/97708666]\n",
            "\n",
            "Archive:  files.zip\n",
            "  inflating: stimuli_180concepts.txt  \n",
            "  inflating: learn_decoder.py        \n",
            "  inflating: vectors_180concepts.GV42B300.txt  \n",
            "  inflating: imaging_data.csv        \n"
          ]
        }
      ],
      "source": [
        "# Download and extract the data and learn_decoder.py\n",
        "# !wget --load-cookies /tmp/cookies.txt \"https://docs.google.com/uc?export=download&confirm=$(wget --quiet --save-cookies /tmp/cookies.txt --keep-session-cookies --no-check-certificate 'https://docs.google.com/uc?export=download&id=1xZaorRH-xxjfochvSesAhOTUg82_Xq56' -O- | sed -rn 's/.*confirm=([0-9A-Za-z_]+).*/\\1\\n/p')&id=1xZaorRH-xxjfochvSesAhOTUg82_Xq56\" -O files.zip && rm -rf /tmp/cookies.txt\n",
        "!wget --header=\"Host: drive.usercontent.google.com\" --header=\"Accept: text/html,application/xhtml+xml,application/xml;q=0.9,image/avif,image/webp,image/apng,*/*;q=0.8,application/signed-exchange;v=b3;q=0.7\" --header=\"Accept-Language: en-US,en;q=0.9,he;q=0.8\" --header=\"Cookie: HSID=AHJfxja1o67aaDDKP; SSID=AcFaYUEeiC88MwrF9; APISID=-FXvHmBvJ828Jrpq/AaIp_RI6gKwBAA-zy; SAPISID=_psqReiv0O2WdiVv/AhLpZThJtVNAPgAJP; __Secure-1PAPISID=_psqReiv0O2WdiVv/AhLpZThJtVNAPgAJP; __Secure-3PAPISID=_psqReiv0O2WdiVv/AhLpZThJtVNAPgAJP; S=billing-ui-v3=pX9aAWC8SzxQZfQvQ-0SbCFRz65PPkVY:billing-ui-v3-efe=pX9aAWC8SzxQZfQvQ-0SbCFRz65PPkVY:maestro=dsv3G-owxPD6uTATLH0lBQZNadhFo6ZKJiuB9usoQVU; __Secure-BUCKET=CPgG; SID=g.a000kggtmVDh8D92rqHe5fiG-bMoXQw7Ld8Tf_C8qHhSE2ZoFUyx_uObP_F4bCqI8I561ccGMwACgYKAWESARQSFQHGX2Mi5DnhBiJ2gjjbMSP0XJbU5BoVAUF8yKrlBjWMdNOfGnmA7TZzmbWD0076; __Secure-1PSID=g.a000kggtmVDh8D92rqHe5fiG-bMoXQw7Ld8Tf_C8qHhSE2ZoFUyx2BFINS8lXhFUyAFwuvl8CQACgYKAW4SARQSFQHGX2MiWd6bHkI0JN89-1dFZUbS2hoVAUF8yKpc-H3AD8N6tj-dmFG21SeE0076; __Secure-3PSID=g.a000kggtmVDh8D92rqHe5fiG-bMoXQw7Ld8Tf_C8qHhSE2ZoFUyxJl_TGsCsjeiVN72q3lSCWQACgYKASASARQSFQHGX2MiULluXa7aABDwxgCWjB6IyhoVAUF8yKoy_HHYLCqIFMwNjx-GwYWe0076; __Secure-ENID=20.SE=jyM_w2hA8DW6FvPOh9wudde93a0A9P41Epzo098LV_LyU79-VVcJ9K-vNLrhCLuVzi69CyV4RxlSls8AAT9J8odwIXi_ISVn8Z1U1DH52BC3YiwOwO9LKUsBesCbGx2D6u1XwZ5GIP_PZMo1tkLLJq2VCtcxRP9OtC_QgHNbAD4eyc1TTu1C8XbZLFTOIgb0k9IfM2bMBXeha6t3sJysARZWpDIzs3I8wWZ5JtABB253grtjQyCnxyy9MUgTcYAVaoEGwgVHV4V4lSY6gydFkO2gYxl7JqYloqCq74HahGK54TBlsGZIOTM_KvFAsIidcrPaVOBpH6IGQTPChxy3Tr-GLK7VpBiQ8JW7V0xC8XTN1crEaaZnGFQ6MrjDv8f3hCY0Kg; AEC=AQTF6HwEtUB747fVHMzvOWJV9pmRoGs8Ix8FJ1HTrxbE9NY1dtyro2AvNQ; NID=515=Wdt0NWZqVSh3TtdIfjXCGTCCkj7jaJjt-lkOL3hLD_hPSSMyGxKkVthECwGGFbbxmvfM2iKZ1SkPGDVgLwjghAOrV9Ya7iEJJ0eSXZSfszc0WxRXm3Jy6LxqPEZLmY8v3AIkMX-o8KE5ZRXGEzgv_s9pfgS8bmeiIGT13Iiyw9tPzRZDChGijNbZ0Mp1oF-4YKikOZCyo8Km9wXOgLAC9dbeIqAlTdER97cQ7B5GajyRLH_bFrg0lCVN4tyZEycjihHOu6Eq_V88rswgV7uvzemJ_yk4WbbIWJVm9NCO4tWdDQG8NY3EY57xAJbmIhu260jDftYwzjCnpqJ8C1iCm-FjboF6xJwKJEtLkCXagIcSWxfPGqRWIn5KY72ogAMZTlUZ5RE5F8bH4sFgkt5pW_AalY5mxYPOfZgF-9hcJYsF71rMOic6mqSfvR8iNo-k6_SZ-4o5WkYxbwdLgiaIOiCJHkhIGBoXsm5hh5BHDqlk5ERGnFn5zpqOguNLJFjXT3nhaP1g_a2fFvd0bmZw2A9Y6tBNAC7CbDOmSHSmYmLag0qVcqu286CZh5svuhdM-QPcSCt5u0kPgfWN3KBha0G9L9qCiDIwntvnlVNoUYLBM4je1bhGjO9M2tdH_vteLo4vjm9Cq-4I2A; __Secure-1PSIDTS=sidts-CjIB3EgAEi6AJoaJlu_IOdqmparuSFUne3RqD5YKK5hcqKjRlc0CTp9lSpyH2OoVVoqmlxAA; __Secure-3PSIDTS=sidts-CjIB3EgAEi6AJoaJlu_IOdqmparuSFUne3RqD5YKK5hcqKjRlc0CTp9lSpyH2OoVVoqmlxAA; SIDCC=AKEyXzW7IJ8miV8hX_pqzqqPW7--eMWuWfausspLBoDPlfZDCRZDED56ohpancLYOBPizfUzi1aM; __Secure-1PSIDCC=AKEyXzVGnmSuG07J22njRVFPQ_sk88MgnqtYxJd-M0_9Pz3jdh4GpGPhPOqCMrayTU9SJTW3n54; __Secure-3PSIDCC=AKEyXzVScJYbKdtIImPYKpTRkExsc5UhC5n9Rkk8wNFlMZNW3_xkvWlimAXWaZ4T7kTcJy5AE4I\" --header=\"Connection: keep-alive\" \"https://drive.usercontent.google.com/download?id=1xZaorRH-xxjfochvSesAhOTUg82_Xq56&export=download&authuser=0&confirm=t&uuid=efeb9ce5-a5c5-453b-938d-6c0ece963f3c&at=APZUnTV18b5mSao0MQ2JbtpefTxr%3A1719665236172\" -c -O 'files.zip'\n",
        "!unzip files.zip\n",
        "!rm files.zip"
      ]
    },
    {
      "cell_type": "code",
      "execution_count": null,
      "metadata": {
        "colab": {
          "base_uri": "https://localhost:8080/"
        },
        "id": "GPn99I8taDga",
        "outputId": "3d40e052-ca70-4163-8270-56f0b4595db4"
      },
      "outputs": [
        {
          "name": "stdout",
          "output_type": "stream",
          "text": [
            "Requirement already satisfied: gdown in /usr/local/lib/python3.11/dist-packages (5.2.0)\n",
            "Requirement already satisfied: beautifulsoup4 in /usr/local/lib/python3.11/dist-packages (from gdown) (4.13.4)\n",
            "Requirement already satisfied: filelock in /usr/local/lib/python3.11/dist-packages (from gdown) (3.18.0)\n",
            "Requirement already satisfied: requests[socks] in /usr/local/lib/python3.11/dist-packages (from gdown) (2.32.3)\n",
            "Requirement already satisfied: tqdm in /usr/local/lib/python3.11/dist-packages (from gdown) (4.67.1)\n",
            "Requirement already satisfied: soupsieve>1.2 in /usr/local/lib/python3.11/dist-packages (from beautifulsoup4->gdown) (2.7)\n",
            "Requirement already satisfied: typing-extensions>=4.0.0 in /usr/local/lib/python3.11/dist-packages (from beautifulsoup4->gdown) (4.14.0)\n",
            "Requirement already satisfied: charset-normalizer<4,>=2 in /usr/local/lib/python3.11/dist-packages (from requests[socks]->gdown) (3.4.2)\n",
            "Requirement already satisfied: idna<4,>=2.5 in /usr/local/lib/python3.11/dist-packages (from requests[socks]->gdown) (3.10)\n",
            "Requirement already satisfied: urllib3<3,>=1.21.1 in /usr/local/lib/python3.11/dist-packages (from requests[socks]->gdown) (2.4.0)\n",
            "Requirement already satisfied: certifi>=2017.4.17 in /usr/local/lib/python3.11/dist-packages (from requests[socks]->gdown) (2025.4.26)\n",
            "Requirement already satisfied: PySocks!=1.5.7,>=1.5.6 in /usr/local/lib/python3.11/dist-packages (from requests[socks]->gdown) (1.7.1)\n",
            "/usr/local/lib/python3.11/dist-packages/gdown/__main__.py:140: FutureWarning: Option `--id` was deprecated in version 4.3.1 and will be removed in 5.0. You don't need to pass it anymore to use a file ID.\n",
            "  warnings.warn(\n",
            "Retrieving folder contents\n",
            "Processing file 11wWOcMZQfB2VAZ1VKAz9sWavnUwFeZkB EXP2.pkl\n",
            "Processing file 1FTDnwEjuX3OA8P18TaiUshAo8uHgmiXU EXP3.pkl\n",
            "Processing file 1spJFNztbmoaxBbExPOxQcU00RD3iMLcR neuralData_for_EXP1.csv\n",
            "Processing file 1BXiBLt11U-RuboKedAtRgpnVR3D3qVnF stimuli_243sentences.txt\n",
            "Processing file 1hnC7-MqCHtyC57poXPQNi5kfCITFsclD stimuli_384sentences.txt\n",
            "Processing file 1xipjPAuRc7gOtwQjbIjKgdrU5TWVs1oF vectors_243sentences.GV42B300.average.txt\n",
            "Processing file 1U-WxrRuyC3TsGW1vjQsmgj3jow7NMx8b vectors_384sentences.GV42B300.average.txt\n",
            "Retrieving folder contents completed\n",
            "Building directory structure\n",
            "Building directory structure completed\n",
            "Downloading...\n",
            "From (original): https://drive.google.com/uc?id=11wWOcMZQfB2VAZ1VKAz9sWavnUwFeZkB\n",
            "From (redirected): https://drive.google.com/uc?id=11wWOcMZQfB2VAZ1VKAz9sWavnUwFeZkB&confirm=t&uuid=c1299bf7-1af3-4aa0-a531-fe10b89021ce\n",
            "To: /content/EXP2.pkl\n",
            "100% 597M/597M [00:09<00:00, 61.5MB/s]\n",
            "Downloading...\n",
            "From (original): https://drive.google.com/uc?id=1FTDnwEjuX3OA8P18TaiUshAo8uHgmiXU\n",
            "From (redirected): https://drive.google.com/uc?id=1FTDnwEjuX3OA8P18TaiUshAo8uHgmiXU&confirm=t&uuid=7511ad07-ada7-465d-8882-e5ca12c94b95\n",
            "To: /content/EXP3.pkl\n",
            "100% 387M/387M [00:05<00:00, 71.4MB/s]\n",
            "Downloading...\n",
            "From (original): https://drive.google.com/uc?id=1spJFNztbmoaxBbExPOxQcU00RD3iMLcR\n",
            "From (redirected): https://drive.google.com/uc?id=1spJFNztbmoaxBbExPOxQcU00RD3iMLcR&confirm=t&uuid=38b5dbc6-1ef9-4d13-bfde-e781bf8ab2a5\n",
            "To: /content/neuralData_for_EXP1.csv\n",
            "100% 637M/637M [00:07<00:00, 81.8MB/s]\n",
            "Downloading...\n",
            "From: https://drive.google.com/uc?id=1BXiBLt11U-RuboKedAtRgpnVR3D3qVnF\n",
            "To: /content/stimuli_243sentences.txt\n",
            "100% 18.9k/18.9k [00:00<00:00, 61.2MB/s]\n",
            "Downloading...\n",
            "From: https://drive.google.com/uc?id=1hnC7-MqCHtyC57poXPQNi5kfCITFsclD\n",
            "To: /content/stimuli_384sentences.txt\n",
            "100% 25.6k/25.6k [00:00<00:00, 61.9MB/s]\n",
            "Downloading...\n",
            "From: https://drive.google.com/uc?id=1xipjPAuRc7gOtwQjbIjKgdrU5TWVs1oF\n",
            "To: /content/vectors_243sentences.GV42B300.average.txt\n",
            "100% 694k/694k [00:00<00:00, 20.6MB/s]\n",
            "Downloading...\n",
            "From: https://drive.google.com/uc?id=1U-WxrRuyC3TsGW1vjQsmgj3jow7NMx8b\n",
            "To: /content/vectors_384sentences.GV42B300.average.txt\n",
            "100% 1.10M/1.10M [00:00<00:00, 15.8MB/s]\n",
            "Download completed\n"
          ]
        }
      ],
      "source": [
        "# download the files privided in the projects pdf\n",
        "!pip install -U gdown\n",
        "!gdown --folder --id 1gFIrqTvvi6wsowcN3U2iZiVDvEC3fuxq -O ."
      ]
    },
    {
      "cell_type": "markdown",
      "metadata": {
        "id": "25YJbnLVfbrk"
      },
      "source": [
        "We'll download the Word2vec embeddings first to MyDrive and use them from there:"
      ]
    },
    {
      "cell_type": "code",
      "execution_count": null,
      "metadata": {
        "colab": {
          "base_uri": "https://localhost:8080/"
        },
        "id": "PYl836rrgGLF",
        "outputId": "aab71d61-289a-4901-8207-2d91b6be02e9"
      },
      "outputs": [
        {
          "name": "stdout",
          "output_type": "stream",
          "text": [
            "Mounted at /content/drive\n"
          ]
        }
      ],
      "source": [
        "from google.colab import drive\n",
        "drive.mount('/content/drive')"
      ]
    },
    {
      "cell_type": "code",
      "execution_count": null,
      "metadata": {
        "id": "tmeiMnWq4Ywz"
      },
      "outputs": [],
      "source": [
        "from learn_decoder import *\n",
        "from gensim.models import KeyedVectors\n",
        "import pandas as pd\n",
        "import numpy as np\n",
        "\n",
        "data = read_matrix(\"imaging_data.csv\", sep=\",\")\n",
        "\n",
        "# Load Word2Vec\n",
        "word2vec_path = \"/content/drive/MyDrive/Word2Vec/GoogleNews-vectors-negative300.bin\"\n",
        "word_vectors = KeyedVectors.load_word2vec_format(word2vec_path, binary=True)\n",
        "\n",
        "concepts = np.genfromtxt('stimuli_180concepts.txt', dtype=str)\n",
        "\n",
        "vectors = np.array([\n",
        "    word_vectors[word] if word in word_vectors else np.zeros(300)\n",
        "    for word in concepts\n",
        "])"
      ]
    },
    {
      "cell_type": "markdown",
      "metadata": {
        "id": "GEUsvcsaNoiQ"
      },
      "source": [
        "complete the analysis from pset 3 question 3"
      ]
    },
    {
      "cell_type": "code",
      "execution_count": null,
      "metadata": {
        "colab": {
          "base_uri": "https://localhost:8080/"
        },
        "id": "q_zd6LdM5Uur",
        "outputId": "23b4273f-f990-49de-c066-ddc36b99e45e"
      },
      "outputs": [
        {
          "name": "stdout",
          "output_type": "stream",
          "text": [
            "Average score: 64.83333333333331\n"
          ]
        }
      ],
      "source": [
        "import numpy as np\n",
        "\n",
        "BATCH_SIZE = 10\n",
        "\n",
        "\n",
        "def compute_rank(decoded_test_vector, true_index, vectors):\n",
        "  decoded_test_vector = decoded_test_vector / np.linalg.norm(decoded_test_vector)\n",
        "  cosine_similarity = np.dot(vectors, decoded_test_vector)\n",
        "  ranked = np.argsort(-cosine_similarity)\n",
        "  return int(np.where(ranked == true_index)[0][0] + 1)\n",
        "\n",
        "\n",
        "def cross_validation(data, vectors):\n",
        "  scores = []\n",
        "  data_cpy = data.copy()\n",
        "  vectors_cpy = vectors.copy()\n",
        "  # Compute norms safely and mask zeros for words that are not in the word2vec embedding\n",
        "  norms = np.linalg.norm(vectors_cpy, axis=1, keepdims=True)\n",
        "  norms[norms == 0] = 1  # prevent division by zero\n",
        "  vectors_unit = vectors_cpy / norms\n",
        "\n",
        "  for start_index in range(0, len(data), BATCH_SIZE):\n",
        "    test_data = data_cpy[start_index:start_index + BATCH_SIZE]\n",
        "    test_vectors = vectors_unit[start_index:start_index + BATCH_SIZE]\n",
        "    train_data = np.concatenate([data_cpy[:start_index], data_cpy[start_index + BATCH_SIZE:]])\n",
        "    train_vectors = np.concatenate([vectors_unit[:start_index], vectors_unit[start_index + BATCH_SIZE:]])\n",
        "\n",
        "    decoder = learn_decoder(train_data, train_vectors)\n",
        "    decoded_test = test_data @ decoder\n",
        "    fold_ranks = [compute_rank(decoded_test[i], start_index + i, vectors) for i in range(len(test_data))]\n",
        "    scores.append(np.mean(fold_ranks))\n",
        "  return scores\n",
        "\n",
        "scores = cross_validation(data, vectors)\n",
        "print(\"Average score:\", np.mean(scores))"
      ]
    },
    {
      "cell_type": "markdown",
      "metadata": {
        "id": "dU47hUYiPOmO"
      },
      "source": [
        "## Accuracy scores"
      ]
    },
    {
      "cell_type": "code",
      "execution_count": null,
      "metadata": {
        "colab": {
          "base_uri": "https://localhost:8080/",
          "height": 410
        },
        "id": "Q9g3WKQj5d_4",
        "outputId": "43d88c5e-6f85-4bce-f1cf-6f19f46d74d9"
      },
      "outputs": [
        {
          "data": {
            "image/png": "[encoded data removed]",
            "text/plain": [
              "<Figure size 1000x400 with 1 Axes>"
            ]
          },
          "metadata": {},
          "output_type": "display_data"
        }
      ],
      "source": [
        "import matplotlib.pyplot as plt\n",
        "import numpy as np\n",
        "\n",
        "plt.figure(figsize=(10, 4))\n",
        "plt.bar(np.arange(1, len(scores)+1), scores, color=\"steelblue\")\n",
        "plt.axhline(90, color=\"red\", linestyle=\"--\", label=\"chance level (90)\")\n",
        "plt.ylabel(\"Average rank (lower is better)\")\n",
        "plt.xlabel(\"Fold (1–18)\")\n",
        "plt.title(\"18-fold cross-validation: decoder accuracy per fold\")\n",
        "plt.legend()\n",
        "plt.show()"
      ]
    },
    {
      "cell_type": "markdown",
      "metadata": {
        "id": "PvG--cnENyjv"
      },
      "source": [
        "### Which concepts can be decoded with more or less success?"
      ]
    },
    {
      "cell_type": "code",
      "execution_count": null,
      "metadata": {
        "id": "1dWMhGtLPv6x"
      },
      "outputs": [],
      "source": [
        "def cross_validation_with_concepts(data, vectors):\n",
        "  scores = []\n",
        "  concept_ranks = np.empty(len(data))\n",
        "\n",
        "  data_cpy = data.copy()\n",
        "  vectors_cpy = vectors.copy()\n",
        "  norms = np.linalg.norm(vectors_cpy, axis=1, keepdims=True)\n",
        "  norms[norms == 0] = 1  # prevent division by zero\n",
        "  vectors_unit = vectors_cpy / norms\n",
        "\n",
        "  for start_index in range(0, len(data), BATCH_SIZE):\n",
        "    test_data = data_cpy[start_index:start_index + BATCH_SIZE]\n",
        "    test_vectors = vectors_unit[start_index:start_index + BATCH_SIZE]\n",
        "    train_data = np.concatenate([data_cpy[:start_index], data_cpy[start_index + BATCH_SIZE:]])\n",
        "    train_vectors = np.concatenate([vectors_unit[:start_index], vectors_unit[start_index + BATCH_SIZE:]])\n",
        "\n",
        "    decoder = learn_decoder(train_data, train_vectors)\n",
        "    decoded_test = test_data @ decoder\n",
        "\n",
        "    for i, decoded_vec in enumerate(decoded_test):\n",
        "      concept_index = start_index + i\n",
        "      rank = compute_rank(decoded_vec, start_index + i, vectors)\n",
        "      concept_ranks[concept_index] = rank\n",
        "\n",
        "    fold_ranks = concept_ranks[start_index:start_index + BATCH_SIZE]\n",
        "    scores.append(np.mean(fold_ranks))\n",
        "  return scores, concept_ranks\n",
        "\n",
        "scores, concept_ranks = cross_validation_with_concepts(data, vectors)"
      ]
    },
    {
      "cell_type": "markdown",
      "metadata": {
        "id": "9-ebgpOhPzT_"
      },
      "source": [
        "Now, we can see the easiest and hardest concepts to decode:"
      ]
    },
    {
      "cell_type": "code",
      "execution_count": null,
      "metadata": {
        "colab": {
          "base_uri": "https://localhost:8080/"
        },
        "id": "hUJtGc-dP0cg",
        "outputId": "d4b4878a-4c5f-47c8-8a87-4b88c6246d4d"
      },
      "outputs": [
        {
          "name": "stdout",
          "output_type": "stream",
          "text": [
            "Easiest\n",
            " 92  laugh            rank= 1.0\n",
            " 96  liar             rank= 1.0\n",
            "135  seafood          rank= 1.0\n",
            "149  soul             rank= 2.0\n",
            " 62  emotion          rank= 2.0\n",
            "154  stupid           rank= 2.0\n",
            " 77  hair             rank= 3.0\n",
            " 60  electron         rank= 4.0\n",
            " 48  dig              rank= 4.0\n",
            "147  smiling          rank= 5.0\n",
            "\n",
            "Hardest\n",
            "  6  argumentatively  rank=176.0\n",
            " 95  level            rank=159.0\n",
            "  1  accomplished     rank=153.0\n",
            " 71  flow             rank=149.0\n",
            "107  movie            rank=149.0\n",
            " 78  help             rank=144.0\n",
            "167  tried            rank=142.0\n",
            "162  time             rank=139.0\n",
            " 57  driver           rank=137.0\n",
            "152  star             rank=137.0\n"
          ]
        }
      ],
      "source": [
        "best_idx  = np.argsort(concept_ranks)[:10]\n",
        "worst_idx = np.argsort(concept_ranks)[-10:]\n",
        "\n",
        "print(\"Easiest\")\n",
        "for i in best_idx:\n",
        "    print(f\"{i:3d}  {concepts[i]:<15}  rank={concept_ranks[i]:4.1f}\")\n",
        "\n",
        "print(\"\\nHardest\")\n",
        "for i in worst_idx[::-1]:\n",
        "    print(f\"{i:3d}  {concepts[i]:<15}  rank={concept_ranks[i]:4.1f}\")"
      ]
    },
    {
      "cell_type": "markdown",
      "metadata": {
        "id": "iTIsqVyJRUvE"
      },
      "source": [
        "here we can see the concepts that can be decoded with more or less success. we can see that the decoder perform really well on emotional and visual concepts probably because those concepts produce a distinct and obvious brain responses.\n"
      ]
    },
    {
      "cell_type": "markdown",
      "metadata": {
        "id": "UUyZbRZwQMzE"
      },
      "source": [
        "## Results Satisfaction"
      ]
    },
    {
      "cell_type": "markdown",
      "metadata": {
        "id": "I_Rg7YZ9QeJ4"
      },
      "source": [
        "We can see that the average rank scores of the decoder accross the 18 folds is around 62 which is much better then a random noise decoder which would achieve an average score of 90. we can conclude from these results that the decoder did deduce a meaningful mapping from the brain signals to the semantic embeddings. the decoder was better at predicting emotional and visual like laugh and smiling concepts which is understandable because those concepts usualy elicit a stronger brain response. So in conclusion despite some limitations of the model"
      ]
    },
    {
      "cell_type": "markdown",
      "metadata": {
        "id": "WYyCXareZ9iq"
      },
      "source": [
        "## Comparison GloVe vs Word2Vec"
      ]
    },
    {
      "cell_type": "markdown",
      "metadata": {
        "id": "qL4pEn2HaFUB"
      },
      "source": [
        "Compared to the GloVe embeddings, we can see that the decoder got slightly higher average scores using the Word2vec embeddings, 62 score average compared to the 65 average. we can also see that each embedding captures different concepts better. The word2Vec embeddings helped the decoeder capture more emotional concepts while the GloVe embedding performed better on more context dependent concepts like food and money, while both struggled with more abstract concepts like argumentatively. All of this suggests that the choise of the embedding space does influence the quality of the decoding but still both embeddings provide an effective and reasonable accuracy on predictions\n"
      ]
    },
    {
      "cell_type": "markdown",
      "metadata": {
        "id": "5U-vS0HCf33V"
      },
      "source": [
        "# Pereira et al., 2018 - analyzes' differences and similarities"
      ]
    },
    {
      "cell_type": "markdown",
      "metadata": {
        "id": "17yurQ2FgwqO"
      },
      "source": [
        "All three analyses aim to decode semantic content from fMRI data by using the same decoder trained on brain fMRI data and semantically embedded vectors.\n",
        "\n",
        "\n",
        "*   In the first analysis the decoder was trained to predic individual concepts from brain activity.\n",
        "*   In the second analysis the same decoder from the first analysis was used, but now the decoder is used on brain data from people who were exposed to whole sentences chosen from specific topics seen in the training.\n",
        "*   The third analysis is similar to the second one but the topic of the sentences now are haven't been seen by the model.\n",
        "\n"
      ]
    },
    {
      "cell_type": "markdown",
      "metadata": {
        "id": "30rtT4LGklsj"
      },
      "source": [
        "## Using the HW decoder on the 2 & 3 analyses"
      ]
    },
    {
      "cell_type": "markdown",
      "metadata": {
        "id": "7v8lJO2FlC1C"
      },
      "source": [
        "First we'll get the decoder from the data from the paper (the data has an extra column and row of indices so we remove them):"
      ]
    },
    {
      "cell_type": "code",
      "execution_count": null,
      "metadata": {
        "id": "5HbqWz4tZMjr"
      },
      "outputs": [],
      "source": [
        "from learn_decoder import *\n",
        "import numpy as np\n",
        "\n",
        "data = np.genfromtxt(\"neuralData_for_EXP1.csv\", delimiter=\",\", skip_header=1)  # skip top header\n",
        "data = data[:, 1:]  # drop the first column\n",
        "\n",
        "vectors = read_matrix(\"vectors_180concepts.GV42B300.txt\", sep=\" \")\n",
        "concepts = np.genfromtxt('stimuli_180concepts.txt', dtype=np.dtype('U'))\n",
        "\n",
        "decoder = learn_decoder(data, vectors)"
      ]
    },
    {
      "cell_type": "markdown",
      "metadata": {
        "id": "sfVvveZhlaef"
      },
      "source": [
        "Next, we will load the data from the analyses."
      ]
    },
    {
      "cell_type": "code",
      "execution_count": null,
      "metadata": {
        "id": "SLbS9Xv3FczI"
      },
      "outputs": [],
      "source": [
        "import pickle\n",
        "\n",
        "with open(\"EXP2.pkl\", \"rb\") as f:\n",
        "    exp2_data = pickle.load(f)\n",
        "\n",
        "with open(\"EXP3.pkl\", \"rb\") as f:\n",
        "    exp3_data = pickle.load(f)"
      ]
    },
    {
      "cell_type": "markdown",
      "metadata": {
        "id": "k6ORH5yhnYXp"
      },
      "source": [
        "Now we can see how the decoder performs on the data:"
      ]
    },
    {
      "cell_type": "code",
      "execution_count": null,
      "metadata": {
        "colab": {
          "base_uri": "https://localhost:8080/"
        },
        "id": "Gp4htictHFcM",
        "outputId": "89947e96-219e-424e-a931-850a57ae5dc2"
      },
      "outputs": [
        {
          "name": "stdout",
          "output_type": "stream",
          "text": [
            "[227, 181, 320, 377, 132, 5, 40, 152, 92, 45, 202, 253, 362, 324, 52, 104, 356, 22, 231, 113, 167, 156, 227, 381, 252, 51, 166, 364, 15, 329, 358, 217, 145, 224, 164, 249, 305, 382, 92, 64, 333, 323, 316, 236, 16, 229, 44, 64, 191, 13, 8, 49, 367, 153, 318, 313, 161, 316, 379, 221, 340, 292, 367, 354, 274, 181, 213, 212, 60, 147, 68, 92, 223, 184, 263, 197, 126, 72, 175, 244, 4, 14, 63, 62, 28, 278, 330, 56, 93, 17, 176, 205, 239, 118, 212, 186, 2, 21, 71, 62, 97, 8, 208, 228, 87, 86, 59, 71, 143, 346, 177, 57, 251, 158, 343, 238, 163, 11, 251, 37, 157, 27, 62, 164, 87, 157, 234, 213, 70, 201, 2, 95, 375, 83, 301, 113, 107, 363, 101, 159, 10, 60, 4, 102, 90, 230, 53, 380, 221, 115, 35, 171, 195, 212, 60, 280, 24, 67, 7, 36, 109, 268, 224, 177, 93, 46, 105, 58, 73, 100, 298, 275, 320, 282, 47, 268, 84, 374, 240, 123, 46, 62, 74, 2, 314, 48, 218, 148, 38, 72, 291, 87, 366, 269, 246, 116, 342, 85, 204, 287, 7, 65, 5, 25, 121, 149, 323, 273, 72, 72, 384, 68, 124, 15, 110, 267, 346, 251, 3, 59, 318, 6, 255, 282, 40, 236, 3, 58, 120, 6, 177, 280, 204, 128, 122, 8, 41, 65, 178, 46, 230, 313, 122, 103, 43, 67, 312, 337, 2, 118, 70, 195, 153, 73, 361, 355, 326, 159, 164, 84, 250, 319, 53, 384, 78, 172, 89, 48, 368, 103, 301, 129, 140, 7, 190, 150, 83, 15, 22, 347, 17, 366, 276, 373, 93, 57, 82, 183, 356, 220, 288, 379, 66, 369, 329, 226, 105, 126, 114, 40, 278, 136, 12, 335, 152, 187, 43, 211, 285, 298, 102, 25, 223, 293, 319, 22, 294, 2, 274, 245, 243, 107, 238, 26, 70, 15, 34, 59, 63, 187, 118, 11, 19, 208, 272, 267, 159, 333, 134, 101, 99, 166, 94, 352, 82, 354, 283, 113, 66, 210, 51, 90, 118, 86, 238, 103, 96, 206, 357, 130, 348, 80, 242, 173, 107, 197, 123, 149, 101, 41, 86, 228, 220, 361, 339, 337, 64, 166, 6, 110, 4, 119, 7, 72]\n",
            "Average rank: 164.52083333333334\n",
            "[218, 223, 135, 219, 195, 218, 236, 128, 240, 218, 32, 32, 25, 29, 1, 12, 104, 159, 17, 149, 12, 14, 78, 64, 49, 43, 38, 137, 99, 150, 49, 139, 196, 61, 197, 109, 146, 77, 30, 209, 132, 23, 171, 147, 80, 144, 67, 184, 28, 22, 236, 74, 35, 171, 206, 153, 73, 71, 154, 51, 191, 213, 44, 20, 49, 111, 110, 51, 136, 127, 200, 19, 114, 99, 174, 102, 96, 194, 11, 27, 52, 19, 2, 91, 170, 83, 49, 44, 16, 186, 88, 120, 148, 6, 107, 110, 199, 95, 159, 232, 27, 7, 54, 59, 231, 4, 32, 32, 137, 5, 25, 100, 5, 16, 34, 182, 26, 211, 240, 191, 32, 129, 199, 228, 68, 36, 132, 9, 103, 84, 101, 21, 51, 56, 206, 156, 84, 1, 20, 33, 78, 6, 29, 145, 10, 12, 20, 54, 95, 208, 96, 63, 84, 87, 142, 92, 214, 95, 138, 178, 34, 38, 147, 172, 149, 2, 159, 133, 10, 3, 90, 7, 54, 69, 231, 152, 78, 101, 26, 52, 23, 5, 222, 223, 113, 232, 168, 115, 211, 243, 85, 1, 110, 60, 191, 135, 7, 13, 120, 151, 219, 80, 124, 33, 55, 138, 108, 100, 48, 91, 27, 75, 194, 211, 142, 147, 132, 187, 220, 200, 109, 239, 101, 112, 64, 17, 197, 121, 184, 169, 113, 189, 103, 242, 32, 44, 181, 132, 187, 200, 142, 95, 201]\n",
            "Average rank: 106.2798353909465\n"
          ]
        }
      ],
      "source": [
        "from learn_decoder import *\n",
        "\n",
        "def evaluate_ranks(exp_data, glove_vectors_path):\n",
        "  # Extract data\n",
        "  fmri_data = exp_data[\"Fmridata\"]  # shape: [n_sentences, 185866]\n",
        "  semantic_vectors = np.loadtxt(glove_vectors_path)\n",
        "\n",
        "  # Train decoder and evaluate with rank\n",
        "  decoded = fmri_data @ decoder\n",
        "\n",
        "  ranks = [compute_rank(decoded[i], i, semantic_vectors) for i in range(len(decoded))]\n",
        "  average_rank = np.mean(ranks)\n",
        "\n",
        "  print(ranks)\n",
        "  print(\"Average rank:\", average_rank)\n",
        "\n",
        "  return ranks\n",
        "\n",
        "ranks2 = evaluate_ranks(exp2_data, \"vectors_384sentences.GV42B300.average.txt\")\n",
        "ranks3 = evaluate_ranks(exp3_data, \"vectors_243sentences.GV42B300.average.txt\")"
      ]
    },
    {
      "cell_type": "markdown",
      "metadata": {
        "id": "h8P2-O8cqSFX"
      },
      "source": [
        "As we can see in the results the accuracy of the decoder for the suggested datasets is not so great and is even worse then a random noise decoder."
      ]
    },
    {
      "cell_type": "code",
      "execution_count": null,
      "metadata": {
        "colab": {
          "base_uri": "https://localhost:8080/"
        },
        "id": "nkt7qDLZtgTH",
        "outputId": "7b158c37-3a92-493e-99ae-151bde96932d"
      },
      "outputs": [
        {
          "name": "stdout",
          "output_type": "stream",
          "text": [
            "\n",
            "Average rank per topic:\n",
            "\n",
            "human                 Avg rank =  74.56\n",
            "body_part             Avg rank =  80.69\n",
            "drink_non_alcoholic   Avg rank =  90.31\n",
            "appliance             Avg rank = 115.38\n",
            "furniture             Avg rank = 122.19\n",
            "place                 Avg rank = 126.94\n",
            "dwelling              Avg rank = 131.69\n",
            "clothing              Avg rank = 144.31\n",
            "kitchen_utensil       Avg rank = 147.50\n",
            "building_part         Avg rank = 150.44\n",
            "tool                  Avg rank = 151.69\n",
            "crime                 Avg rank = 163.19\n",
            "disaster              Avg rank = 169.38\n",
            "vehicles_transport    Avg rank = 173.88\n",
            "fruit                 Avg rank = 182.31\n",
            "fish                  Avg rank = 189.75\n",
            "landscape             Avg rank = 195.06\n",
            "music                 Avg rank = 196.62\n",
            "weapon                Avg rank = 205.50\n",
            "bird                  Avg rank = 208.75\n",
            "insect                Avg rank = 210.94\n",
            "animal                Avg rank = 219.75\n",
            "vegetable             Avg rank = 236.06\n",
            "profession            Avg rank = 261.62\n",
            "\n",
            "Average rank per topic:\n",
            "\n",
            "dreams                Avg rank =  54.00\n",
            "stress                Avg rank =  58.60\n",
            "bone_fracture         Avg rank =  68.45\n",
            "taste                 Avg rank =  69.78\n",
            "gambling              Avg rank =  72.10\n",
            "law_school            Avg rank =  74.80\n",
            "painter               Avg rank =  79.10\n",
            "castle                Avg rank =  79.90\n",
            "opera                 Avg rank =  82.73\n",
            "computer_graphics     Avg rank =  88.80\n",
            "tuxedo                Avg rank = 103.70\n",
            "astronaut             Avg rank = 106.10\n",
            "polar_bear            Avg rank = 108.60\n",
            "blindness             Avg rank = 108.90\n",
            "ice_cream             Avg rank = 110.20\n",
            "infection             Avg rank = 112.70\n",
            "lawn_mower            Avg rank = 117.90\n",
            "pharmacist            Avg rank = 120.30\n",
            "rock_climbing         Avg rank = 124.55\n",
            "hurricane             Avg rank = 129.60\n",
            "skiing                Avg rank = 145.60\n",
            "owl                   Avg rank = 161.30\n",
            "pyramid               Avg rank = 178.10\n",
            "beekeeping            Avg rank = 187.45\n"
          ]
        },
        {
          "name": "stderr",
          "output_type": "stream",
          "text": [
            "<ipython-input-83-1835499400>:13: DeprecationWarning: Conversion of an array with ndim > 0 to a scalar is deprecated, and will error in future. Ensure you extract a single element from your array before performing this operation. (Deprecated NumPy 1.25.)\n",
            "  topic_id = int(passage_to_topic[passage_id]) - 1\n"
          ]
        }
      ],
      "source": [
        "from collections import defaultdict\n",
        "import numpy as np\n",
        "\n",
        "def analyze_topic_ranks(exp_data, sentence_ranks):\n",
        "    sentence_to_passage = exp_data[\"labelsPassageForEachSentence\"]\n",
        "    passage_to_topic = exp_data[\"labelsPassageCategory\"]\n",
        "    topic_names = exp_data[\"keyPassageCategory\"][0]\n",
        "\n",
        "    topic_ranks = defaultdict(list)\n",
        "\n",
        "    for i, rank in enumerate(sentence_ranks):\n",
        "        passage_id = sentence_to_passage[i] - 1\n",
        "        topic_id = int(passage_to_topic[passage_id]) - 1\n",
        "        topic_ranks[topic_id].append(rank)\n",
        "\n",
        "    print(\"\\nAverage rank per topic:\\n\")\n",
        "    sorted_topics = sorted(topic_ranks.items(), key=lambda kv: np.mean(kv[1]))\n",
        "\n",
        "    for topic_id, ranks in sorted_topics:\n",
        "        print(f\"{topic_names[topic_id][0]:<20}  Avg rank = {np.mean(ranks):6.2f}\")\n",
        "\n",
        "analyze_topic_ranks(exp2_data, ranks2)\n",
        "analyze_topic_ranks(exp3_data, ranks3)\n"
      ]
    },
    {
      "cell_type": "markdown",
      "metadata": {
        "id": "4h-isyqvz_4n"
      },
      "source": [
        "We can see that the topics the docoder was more or less successful are human, body_part, dreams and stress."
      ]
    },
    {
      "cell_type": "markdown",
      "metadata": {
        "id": "htelb8ld0P3k"
      },
      "source": [
        "# Task 2: Sentence representations"
      ]
    },
    {
      "cell_type": "markdown",
      "metadata": {
        "id": "0kl_mKX1XSTt"
      },
      "source": [
        "First, we will train a decoder on the fMRI data from the second experiment and observe the average rank:"
      ]
    },
    {
      "cell_type": "code",
      "execution_count": null,
      "metadata": {
        "colab": {
          "base_uri": "https://localhost:8080/"
        },
        "id": "LZR1Dgri8s-s",
        "outputId": "d4e68745-cb08-4f58-cf7e-26af8b1b38d2"
      },
      "outputs": [
        {
          "name": "stdout",
          "output_type": "stream",
          "text": [
            "Average rank (GloVe): 5.95\n"
          ]
        }
      ],
      "source": [
        "import numpy as np\n",
        "from learn_decoder import *\n",
        "\n",
        "fmri_data = exp2_data[\"Fmridata\"]\n",
        "\n",
        "glove_vectors = np.loadtxt(\"vectors_384sentences.GV42B300.average.txt\")\n",
        "decoder_glove = learn_decoder(fmri_data, glove_vectors)\n",
        "decoded_glove = fmri_data @ decoder_glove\n",
        "\n",
        "ranks_glove = [compute_rank(decoded_glove[i], i, glove_vectors) for i in range(len(decoded_glove))]\n",
        "avg_rank_glove = np.mean(ranks_glove)\n",
        "\n",
        "print(f\"Average rank (GloVe): {avg_rank_glove:.2f}\")"
      ]
    },
    {
      "cell_type": "markdown",
      "metadata": {
        "id": "VfiZ65dWlGAk"
      },
      "source": [
        "Now we'll extract the BERT embeddings of the sentences from EXP2 using the BERT model and we'll train the decoder using them:"
      ]
    },
    {
      "cell_type": "code",
      "execution_count": null,
      "metadata": {
        "colab": {
          "base_uri": "https://localhost:8080/",
          "height": 301,
          "referenced_widgets": [
            "5a54824cf4cd47d0bd07249a90dd0d62",
            "f9d61acf0df643b3958ca70c58298e00",
            "c45e6f38b183411897a8463ad7bf40e0",
            "5895c3d77ded4c158cfa830530b17d01",
            "eed6a07908754ef796fb8c7e21629623",
            "1f1201f067f149ab9ccd065b791d44bf",
            "1286477a6bff4d919989ba34e8970490",
            "f4b5e2dc1f2c412186ab2dafb768fd8b",
            "6cf3edc69014449ab8c6cb3d785ab2ab",
            "492d9a0acacd4c2ab977386e72ee7466",
            "77dc892327844fa8bead40f12dcf6563",
            "8db76583449a4e82a2314c9764ae8ce8",
            "237aaa3eaab84ca48dce11e00fb90e0c",
            "bb13437f873243bd871ec6648669174b",
            "ad2b2a38a5144736a3f36fb02189f481",
            "7e861c067c4b4464897a8fdfc610db86",
            "5f141eb61e904914a773eb1075661c26",
            "f19ea63dc41140e68bd1f85ccdce4afa",
            "1e32ffc3c25942f4bf2b747a3f23c92f",
            "0a4958331724451fbab1eacb7db43833",
            "2b03818cd75044aaad2a8c58bf790d9a",
            "e2ac7a816be04ef3a07618b2d1601e21",
            "72156e8554e3412699ed32b68a9e7e45",
            "3564e5bf72fe49969b6f6464239df6bb",
            "408a6972ab89477fa6e537acbd2837ac",
            "362e5f2340744ad782ceaae905e52b69",
            "ad987afeee20445795c9d3424c176bc5",
            "e670d3ee6a7e4abea3b46cbd0a744ff2",
            "224e5eb8cdab4b8ebc124ec29fe03724",
            "4052aec12ded46f480a65af73e727fb4",
            "96373b321bdc49ba95c078f137e69520",
            "c4f796c04d2f41289a64d9b9aa74bc1c",
            "b0f5eb92baa143ad85fa02d64302947c",
            "1dba73dc3dae4cc1b49be310834d6b1a",
            "e487283498ee48b7a8fe1877c5df7034",
            "48910f96375b45428187885dca06aaf7",
            "a2133e180cb74c66bc1f5f31b52b6db5",
            "80c8344edb644d10ad1a27ecd3da5950",
            "8cf8d6e0eb3f4fdda1ad2af3cbfe287c",
            "498c11ea336d40bc9335e982540a093f",
            "f4e423e279ad457db62d64183c58ffac",
            "d1f3ab40f3074da498776fbb01704007",
            "302523a9d64246479978c92aa9f3233f",
            "5bcd0c4207db42f2974fb4cb0f7b1afa",
            "6a0f6cafdd9c401ca7af4954c78644b6",
            "e67f172b1cd04fc69267a5a458e98d4b",
            "446aaeab24144ce8a594dc6150fbb5f8",
            "ed6c5e7343f74b458925d526e5ceb32c",
            "5907c158aed7491c8efa35ef459c0a71",
            "5603aae0fba04095acb586917d8ec337",
            "efb3b461674f4f51b7c5e790d0ebca08",
            "89afd9659f9a4095ac151c312c6d6f72",
            "5bea3a8fa7734d478fb0651eea2cc04a",
            "9537a8b62a6d4e40b9e5e04f2b6a4c75",
            "4ffb57bd0e50462fab7a347ffbe67007"
          ]
        },
        "id": "M3CV7zK26C_b",
        "outputId": "def0ec94-d520-4a9e-8724-971e0365bfc2"
      },
      "outputs": [
        {
          "name": "stderr",
          "output_type": "stream",
          "text": [
            "/usr/local/lib/python3.11/dist-packages/huggingface_hub/utils/_auth.py:94: UserWarning: \n",
            "The secret `HF_TOKEN` does not exist in your Colab secrets.\n",
            "To authenticate with the Hugging Face Hub, create a token in your settings tab (https://huggingface.co/settings/tokens), set it as secret in your Google Colab and restart your session.\n",
            "You will be able to reuse this secret in all of your notebooks.\n",
            "Please note that authentication is recommended but still optional to access public models or datasets.\n",
            "  warnings.warn(\n"
          ]
        },
        {
          "data": {
            "application/vnd.jupyter.widget-view+json": {
              "model_id": "5a54824cf4cd47d0bd07249a90dd0d62",
              "version_major": 2,
              "version_minor": 0
            },
            "text/plain": [
              "tokenizer_config.json:   0%|          | 0.00/48.0 [00:00<?, ?B/s]"
            ]
          },
          "metadata": {},
          "output_type": "display_data"
        },
        {
          "data": {
            "application/vnd.jupyter.widget-view+json": {
              "model_id": "8db76583449a4e82a2314c9764ae8ce8",
              "version_major": 2,
              "version_minor": 0
            },
            "text/plain": [
              "config.json:   0%|          | 0.00/570 [00:00<?, ?B/s]"
            ]
          },
          "metadata": {},
          "output_type": "display_data"
        },
        {
          "data": {
            "application/vnd.jupyter.widget-view+json": {
              "model_id": "72156e8554e3412699ed32b68a9e7e45",
              "version_major": 2,
              "version_minor": 0
            },
            "text/plain": [
              "vocab.txt:   0%|          | 0.00/232k [00:00<?, ?B/s]"
            ]
          },
          "metadata": {},
          "output_type": "display_data"
        },
        {
          "data": {
            "application/vnd.jupyter.widget-view+json": {
              "model_id": "1dba73dc3dae4cc1b49be310834d6b1a",
              "version_major": 2,
              "version_minor": 0
            },
            "text/plain": [
              "tokenizer.json:   0%|          | 0.00/466k [00:00<?, ?B/s]"
            ]
          },
          "metadata": {},
          "output_type": "display_data"
        },
        {
          "data": {
            "application/vnd.jupyter.widget-view+json": {
              "model_id": "6a0f6cafdd9c401ca7af4954c78644b6",
              "version_major": 2,
              "version_minor": 0
            },
            "text/plain": [
              "model.safetensors:   0%|          | 0.00/440M [00:00<?, ?B/s]"
            ]
          },
          "metadata": {},
          "output_type": "display_data"
        }
      ],
      "source": [
        "from transformers import AutoTokenizer, AutoModel\n",
        "import torch\n",
        "import numpy as np\n",
        "\n",
        "# Load BERT model\n",
        "tokenizer = AutoTokenizer.from_pretrained(\"bert-base-uncased\")\n",
        "model = AutoModel.from_pretrained(\"bert-base-uncased\").eval()\n",
        "\n",
        "def encode_sentence(sentence):\n",
        "    inputs = tokenizer(sentence, return_tensors=\"pt\", truncation=True, padding=True)\n",
        "    with torch.no_grad():\n",
        "        outputs = model(**inputs)\n",
        "        embeddings = outputs.last_hidden_state.mean(dim=1)\n",
        "    return embeddings.squeeze().numpy()\n",
        "\n",
        "sentences = [str(s).strip() for s in exp2_data[\"keySentences\"]]\n",
        "bert_vectors = np.stack([encode_sentence(s) for s in sentences])\n"
      ]
    },
    {
      "cell_type": "code",
      "execution_count": null,
      "metadata": {
        "colab": {
          "base_uri": "https://localhost:8080/"
        },
        "id": "qdfKblK_7hvm",
        "outputId": "3ef37b1d-9602-4908-f06f-183a4f392e14"
      },
      "outputs": [
        {
          "name": "stdout",
          "output_type": "stream",
          "text": [
            "Average rank (BERT-based embedding): 21.1171875\n"
          ]
        }
      ],
      "source": [
        "decoder_bert = learn_decoder(fmri_data, bert_vectors)\n",
        "decoded_bert = fmri_data @ decoder_bert\n",
        "\n",
        "ranks_bert = [compute_rank(decoded_bert[i], i, bert_vectors) for i in range(len(decoded_bert))]\n",
        "average_rank_bert = np.mean(ranks_bert)\n",
        "\n",
        "print(\"Average rank (BERT-based embedding):\", average_rank_bert)"
      ]
    },
    {
      "cell_type": "markdown",
      "metadata": {
        "id": "VdU5sp4flaAq"
      },
      "source": [
        "As we can see, in this specific experiment the GloVe embeddigns out performed the BERT embeddings as the decoder got an average rank of 5.95 using the GloVe embeddings as opposed to 21.11 using the BERT embeddings and so the GloVe embeddings were more effective."
      ]
    },
    {
      "cell_type": "markdown",
      "metadata": {
        "id": "J66oihManMbF"
      },
      "source": [
        "# Task 3: Brain encoder model"
      ]
    },
    {
      "cell_type": "markdown",
      "metadata": {
        "id": "J5mdTDYvr5yP"
      },
      "source": [
        "To achieve neural encoding, we will train a linear regression model on each voxel with L2 regularization to prevent overfitting due to the high dimensionality of the data, and then calculate the R² score for each model."
      ]
    },
    {
      "cell_type": "code",
      "execution_count": null,
      "metadata": {
        "id": "BGQjCYzTvHXu"
      },
      "outputs": [],
      "source": [
        "import numpy as np\n",
        "from sklearn.linear_model import Ridge\n",
        "from sklearn.metrics import r2_score\n",
        "from tqdm import tqdm\n",
        "\n",
        "def run_encoding_model(X_embed, Y_fmri, alpha=100.0):\n",
        "    n_voxels = Y_fmri.shape[1]\n",
        "    r2_scores = np.zeros(n_voxels)\n",
        "\n",
        "    for v in tqdm(range(n_voxels), desc=\"Training voxel regressors\"):\n",
        "        y = Y_fmri[:, v]\n",
        "        model = Ridge(alpha=alpha)\n",
        "        model.fit(X_embed, y)\n",
        "        y_pred = model.predict(X_embed)\n",
        "        r2_scores[v] = r2_score(y, y_pred)\n",
        "\n",
        "    return r2_scores\n"
      ]
    },
    {
      "cell_type": "markdown",
      "metadata": {
        "id": "EmxktQmluHZT"
      },
      "source": [
        "Now for the training:"
      ]
    },
    {
      "cell_type": "code",
      "execution_count": null,
      "metadata": {
        "colab": {
          "base_uri": "https://localhost:8080/"
        },
        "id": "UeDCpPb__ENo",
        "outputId": "a3adc2b8-d481-4c44-b008-73cae27b9abe"
      },
      "outputs": [
        {
          "name": "stderr",
          "output_type": "stream",
          "text": [
            "Training voxel regressors: 100%|██████████| 185866/185866 [1:47:52<00:00, 28.72it/s]"
          ]
        },
        {
          "name": "stdout",
          "output_type": "stream",
          "text": [
            "Mean R² (GloVe): 0.13295274966936677\n"
          ]
        },
        {
          "name": "stderr",
          "output_type": "stream",
          "text": [
            "\n"
          ]
        }
      ],
      "source": [
        "fmri_data = exp2_data[\"Fmridata\"]\n",
        "\n",
        "glove_vectors = np.loadtxt(\"vectors_384sentences.GV42B300.average.txt\")\n",
        "r2_glove = run_encoding_model(glove_vectors, fmri_data)\n",
        "print(\"Mean R² (GloVe):\", np.mean(r2_glove))"
      ]
    },
    {
      "cell_type": "code",
      "execution_count": null,
      "metadata": {
        "colab": {
          "base_uri": "https://localhost:8080/"
        },
        "id": "sWl1NTAcofsd",
        "outputId": "f93fda34-bd10-4e92-9f82-c5dbad978bcc"
      },
      "outputs": [
        {
          "name": "stderr",
          "output_type": "stream",
          "text": [
            "Training voxel regressors: 100%|██████████| 185866/185866 [2:08:00<00:00, 24.20it/s]"
          ]
        },
        {
          "name": "stdout",
          "output_type": "stream",
          "text": [
            "Mean R² (BERT): 0.131788654739067\n"
          ]
        },
        {
          "name": "stderr",
          "output_type": "stream",
          "text": [
            "\n"
          ]
        }
      ],
      "source": [
        "r2_bert = run_encoding_model(bert_vectors, fmri_data)\n",
        "print(\"Mean R² (BERT):\", np.mean(r2_bert))"
      ]
    },
    {
      "cell_type": "markdown",
      "metadata": {
        "id": "CJlV4vyguMt7"
      },
      "source": [
        "From the training results we can see that the average R2 loss for each embeddings nearly identical and is around 0.13 which is a bit more the 0, meaning the models did better than a random noise model and did find a relationship between the embeddings and the voxels. Although the accuracy is not very high it is undestandble given the complexity of the brain signals and the simplicity of a linear regression model."
      ]
    },
    {
      "cell_type": "markdown",
      "metadata": {
        "id": "h_VzMLnMyVLk"
      },
      "source": [
        "Now, to see what percentege of the voxels are actually associated with the information embedded in the word vectors we will declared a minimum threshold for the R2 loss that will represent the voxel's is importence. In our case we chose that threshold to be 0.1. Now let us examine the results:"
      ]
    },
    {
      "cell_type": "code",
      "execution_count": null,
      "metadata": {
        "colab": {
          "base_uri": "https://localhost:8080/"
        },
        "id": "O49tMjEWvLTP",
        "outputId": "b9b6f7e4-b40f-4479-f612-48112b57a574"
      },
      "outputs": [
        {
          "name": "stdout",
          "output_type": "stream",
          "text": [
            "Voxels with R² > 0.1 (Glove): 97.09%\n",
            "Voxels with R² > 0.1 (BERT): 94.35%\n"
          ]
        }
      ],
      "source": [
        "total_voxels = len(r2_glove)\n",
        "\n",
        "glove_count = np.sum(r2_glove > 0.1)\n",
        "bert_count = np.sum(r2_bert > 0.1)\n",
        "\n",
        "print(f\"Voxels with R² > 0.1 (Glove): {100 * glove_count / total_voxels:.2f}%\")\n",
        "print(f\"Voxels with R² > 0.1 (BERT): {100 * bert_count / total_voxels:.2f}%\")"
      ]
    },
    {
      "cell_type": "code",
      "execution_count": null,
      "metadata": {
        "colab": {
          "base_uri": "https://localhost:8080/",
          "height": 472
        },
        "id": "iU1xawrWY2cC",
        "outputId": "725a4166-8d20-4904-b4fc-6001dab1dac5"
      },
      "outputs": [
        {
          "data": {
            "image/png": "[encoded data removed]",
            "text/plain": [
              "<Figure size 640x480 with 1 Axes>"
            ]
          },
          "metadata": {},
          "output_type": "display_data"
        }
      ],
      "source": [
        "import matplotlib.pyplot as plt\n",
        "\n",
        "plt.hist(r2_glove, bins=100)\n",
        "plt.axvline(0.1, color='red', linestyle='--', label='Threshold r² = 0.1')\n",
        "plt.title(\"Distribution of R² Scores Across Voxels\")\n",
        "plt.xlabel(\"R² score\")\n",
        "plt.ylabel(\"Number of voxels\")\n",
        "plt.legend()\n",
        "plt.show()\n"
      ]
    },
    {
      "cell_type": "code",
      "execution_count": null,
      "metadata": {
        "colab": {
          "base_uri": "https://localhost:8080/",
          "height": 472
        },
        "id": "VaO8c-QOY4H2",
        "outputId": "a18d4aba-5c0f-436a-8a51-45fd8ee26081"
      },
      "outputs": [
        {
          "data": {
            "image/png": "[encoded data removed]",
            "text/plain": [
              "<Figure size 640x480 with 1 Axes>"
            ]
          },
          "metadata": {},
          "output_type": "display_data"
        }
      ],
      "source": [
        "import matplotlib.pyplot as plt\n",
        "\n",
        "plt.hist(r2_bert, bins=100)\n",
        "plt.axvline(0.1, color='red', linestyle='--', label='Threshold r² = 0.1')\n",
        "plt.title(\"Distribution of R² Scores Across Voxels\")\n",
        "plt.xlabel(\"R² score\")\n",
        "plt.ylabel(\"Number of voxels\")\n",
        "plt.legend()\n",
        "plt.show()\n"
      ]
    },
    {
      "cell_type": "markdown",
      "metadata": {
        "id": "RlErMWJ6ysLk"
      },
      "source": [
        "As we can see, in both embeddings the vast majority of voxels are significant while GloVe slightly outperforms BERT in the predictions. This might suggest that context independent embeddings like GloVe might be more optimal than context dependent enbeddings like BERT for the neural encoding task."
      ]
    }
  ],
  "metadata": {
    "colab": {
      "provenance": []
    },
    "kernelspec": {
      "display_name": ".conda",
      "language": "python",
      "name": "python3"
    },
    "language_info": {
      "codemirror_mode": {
        "name": "ipython",
        "version": 3
      },
      "file_extension": ".py",
      "mimetype": "text/x-python",
      "name": "python",
      "nbconvert_exporter": "python",
      "pygments_lexer": "ipython3",
      "version": "3.12.11"
    },
    "widgets": {
      "application/vnd.jupyter.widget-state+json": {
        "0a4958331724451fbab1eacb7db43833": {
          "model_module": "@jupyter-widgets/controls",
          "model_module_version": "1.5.0",
          "model_name": "ProgressStyleModel",
          "state": {
            "_model_module": "@jupyter-widgets/controls",
            "_model_module_version": "1.5.0",
            "_model_name": "ProgressStyleModel",
            "_view_count": null,
            "_view_module": "@jupyter-widgets/base",
            "_view_module_version": "1.2.0",
            "_view_name": "StyleView",
            "bar_color": null,
            "description_width": ""
          }
        },
        "1286477a6bff4d919989ba34e8970490": {
          "model_module": "@jupyter-widgets/controls",
          "model_module_version": "1.5.0",
          "model_name": "DescriptionStyleModel",
          "state": {
            "_model_module": "@jupyter-widgets/controls",
            "_model_module_version": "1.5.0",
            "_model_name": "DescriptionStyleModel",
            "_view_count": null,
            "_view_module": "@jupyter-widgets/base",
            "_view_module_version": "1.2.0",
            "_view_name": "StyleView",
            "description_width": ""
          }
        },
        "1dba73dc3dae4cc1b49be310834d6b1a": {
          "model_module": "@jupyter-widgets/controls",
          "model_module_version": "1.5.0",
          "model_name": "HBoxModel",
          "state": {
            "_dom_classes": [],
            "_model_module": "@jupyter-widgets/controls",
            "_model_module_version": "1.5.0",
            "_model_name": "HBoxModel",
            "_view_count": null,
            "_view_module": "@jupyter-widgets/controls",
            "_view_module_version": "1.5.0",
            "_view_name": "HBoxView",
            "box_style": "",
            "children": [
              "IPY_MODEL_e487283498ee48b7a8fe1877c5df7034",
              "IPY_MODEL_48910f96375b45428187885dca06aaf7",
              "IPY_MODEL_a2133e180cb74c66bc1f5f31b52b6db5"
            ],
            "layout": "IPY_MODEL_80c8344edb644d10ad1a27ecd3da5950"
          }
        },
        "1e32ffc3c25942f4bf2b747a3f23c92f": {
          "model_module": "@jupyter-widgets/base",
          "model_module_version": "1.2.0",
          "model_name": "LayoutModel",
          "state": {
            "_model_module": "@jupyter-widgets/base",
            "_model_module_version": "1.2.0",
            "_model_name": "LayoutModel",
            "_view_count": null,
            "_view_module": "@jupyter-widgets/base",
            "_view_module_version": "1.2.0",
            "_view_name": "LayoutView",
            "align_content": null,
            "align_items": null,
            "align_self": null,
            "border": null,
            "bottom": null,
            "display": null,
            "flex": null,
            "flex_flow": null,
            "grid_area": null,
            "grid_auto_columns": null,
            "grid_auto_flow": null,
            "grid_auto_rows": null,
            "grid_column": null,
            "grid_gap": null,
            "grid_row": null,
            "grid_template_areas": null,
            "grid_template_columns": null,
            "grid_template_rows": null,
            "height": null,
            "justify_content": null,
            "justify_items": null,
            "left": null,
            "margin": null,
            "max_height": null,
            "max_width": null,
            "min_height": null,
            "min_width": null,
            "object_fit": null,
            "object_position": null,
            "order": null,
            "overflow": null,
            "overflow_x": null,
            "overflow_y": null,
            "padding": null,
            "right": null,
            "top": null,
            "visibility": null,
            "width": null
          }
        },
        "1f1201f067f149ab9ccd065b791d44bf": {
          "model_module": "@jupyter-widgets/base",
          "model_module_version": "1.2.0",
          "model_name": "LayoutModel",
          "state": {
            "_model_module": "@jupyter-widgets/base",
            "_model_module_version": "1.2.0",
            "_model_name": "LayoutModel",
            "_view_count": null,
            "_view_module": "@jupyter-widgets/base",
            "_view_module_version": "1.2.0",
            "_view_name": "LayoutView",
            "align_content": null,
            "align_items": null,
            "align_self": null,
            "border": null,
            "bottom": null,
            "display": null,
            "flex": null,
            "flex_flow": null,
            "grid_area": null,
            "grid_auto_columns": null,
            "grid_auto_flow": null,
            "grid_auto_rows": null,
            "grid_column": null,
            "grid_gap": null,
            "grid_row": null,
            "grid_template_areas": null,
            "grid_template_columns": null,
            "grid_template_rows": null,
            "height": null,
            "justify_content": null,
            "justify_items": null,
            "left": null,
            "margin": null,
            "max_height": null,
            "max_width": null,
            "min_height": null,
            "min_width": null,
            "object_fit": null,
            "object_position": null,
            "order": null,
            "overflow": null,
            "overflow_x": null,
            "overflow_y": null,
            "padding": null,
            "right": null,
            "top": null,
            "visibility": null,
            "width": null
          }
        },
        "224e5eb8cdab4b8ebc124ec29fe03724": {
          "model_module": "@jupyter-widgets/controls",
          "model_module_version": "1.5.0",
          "model_name": "DescriptionStyleModel",
          "state": {
            "_model_module": "@jupyter-widgets/controls",
            "_model_module_version": "1.5.0",
            "_model_name": "DescriptionStyleModel",
            "_view_count": null,
            "_view_module": "@jupyter-widgets/base",
            "_view_module_version": "1.2.0",
            "_view_name": "StyleView",
            "description_width": ""
          }
        },
        "237aaa3eaab84ca48dce11e00fb90e0c": {
          "model_module": "@jupyter-widgets/controls",
          "model_module_version": "1.5.0",
          "model_name": "HTMLModel",
          "state": {
            "_dom_classes": [],
            "_model_module": "@jupyter-widgets/controls",
            "_model_module_version": "1.5.0",
            "_model_name": "HTMLModel",
            "_view_count": null,
            "_view_module": "@jupyter-widgets/controls",
            "_view_module_version": "1.5.0",
            "_view_name": "HTMLView",
            "description": "",
            "description_tooltip": null,
            "layout": "IPY_MODEL_5f141eb61e904914a773eb1075661c26",
            "placeholder": "​",
            "style": "IPY_MODEL_f19ea63dc41140e68bd1f85ccdce4afa",
            "value": "config.json: 100%"
          }
        },
        "2b03818cd75044aaad2a8c58bf790d9a": {
          "model_module": "@jupyter-widgets/base",
          "model_module_version": "1.2.0",
          "model_name": "LayoutModel",
          "state": {
            "_model_module": "@jupyter-widgets/base",
            "_model_module_version": "1.2.0",
            "_model_name": "LayoutModel",
            "_view_count": null,
            "_view_module": "@jupyter-widgets/base",
            "_view_module_version": "1.2.0",
            "_view_name": "LayoutView",
            "align_content": null,
            "align_items": null,
            "align_self": null,
            "border": null,
            "bottom": null,
            "display": null,
            "flex": null,
            "flex_flow": null,
            "grid_area": null,
            "grid_auto_columns": null,
            "grid_auto_flow": null,
            "grid_auto_rows": null,
            "grid_column": null,
            "grid_gap": null,
            "grid_row": null,
            "grid_template_areas": null,
            "grid_template_columns": null,
            "grid_template_rows": null,
            "height": null,
            "justify_content": null,
            "justify_items": null,
            "left": null,
            "margin": null,
            "max_height": null,
            "max_width": null,
            "min_height": null,
            "min_width": null,
            "object_fit": null,
            "object_position": null,
            "order": null,
            "overflow": null,
            "overflow_x": null,
            "overflow_y": null,
            "padding": null,
            "right": null,
            "top": null,
            "visibility": null,
            "width": null
          }
        },
        "302523a9d64246479978c92aa9f3233f": {
          "model_module": "@jupyter-widgets/base",
          "model_module_version": "1.2.0",
          "model_name": "LayoutModel",
          "state": {
            "_model_module": "@jupyter-widgets/base",
            "_model_module_version": "1.2.0",
            "_model_name": "LayoutModel",
            "_view_count": null,
            "_view_module": "@jupyter-widgets/base",
            "_view_module_version": "1.2.0",
            "_view_name": "LayoutView",
            "align_content": null,
            "align_items": null,
            "align_self": null,
            "border": null,
            "bottom": null,
            "display": null,
            "flex": null,
            "flex_flow": null,
            "grid_area": null,
            "grid_auto_columns": null,
            "grid_auto_flow": null,
            "grid_auto_rows": null,
            "grid_column": null,
            "grid_gap": null,
            "grid_row": null,
            "grid_template_areas": null,
            "grid_template_columns": null,
            "grid_template_rows": null,
            "height": null,
            "justify_content": null,
            "justify_items": null,
            "left": null,
            "margin": null,
            "max_height": null,
            "max_width": null,
            "min_height": null,
            "min_width": null,
            "object_fit": null,
            "object_position": null,
            "order": null,
            "overflow": null,
            "overflow_x": null,
            "overflow_y": null,
            "padding": null,
            "right": null,
            "top": null,
            "visibility": null,
            "width": null
          }
        },
        "3564e5bf72fe49969b6f6464239df6bb": {
          "model_module": "@jupyter-widgets/controls",
          "model_module_version": "1.5.0",
          "model_name": "HTMLModel",
          "state": {
            "_dom_classes": [],
            "_model_module": "@jupyter-widgets/controls",
            "_model_module_version": "1.5.0",
            "_model_name": "HTMLModel",
            "_view_count": null,
            "_view_module": "@jupyter-widgets/controls",
            "_view_module_version": "1.5.0",
            "_view_name": "HTMLView",
            "description": "",
            "description_tooltip": null,
            "layout": "IPY_MODEL_e670d3ee6a7e4abea3b46cbd0a744ff2",
            "placeholder": "​",
            "style": "IPY_MODEL_224e5eb8cdab4b8ebc124ec29fe03724",
            "value": "vocab.txt: 100%"
          }
        },
        "362e5f2340744ad782ceaae905e52b69": {
          "model_module": "@jupyter-widgets/controls",
          "model_module_version": "1.5.0",
          "model_name": "HTMLModel",
          "state": {
            "_dom_classes": [],
            "_model_module": "@jupyter-widgets/controls",
            "_model_module_version": "1.5.0",
            "_model_name": "HTMLModel",
            "_view_count": null,
            "_view_module": "@jupyter-widgets/controls",
            "_view_module_version": "1.5.0",
            "_view_name": "HTMLView",
            "description": "",
            "description_tooltip": null,
            "layout": "IPY_MODEL_c4f796c04d2f41289a64d9b9aa74bc1c",
            "placeholder": "​",
            "style": "IPY_MODEL_b0f5eb92baa143ad85fa02d64302947c",
            "value": " 232k/232k [00:00&lt;00:00, 4.79MB/s]"
          }
        },
        "4052aec12ded46f480a65af73e727fb4": {
          "model_module": "@jupyter-widgets/base",
          "model_module_version": "1.2.0",
          "model_name": "LayoutModel",
          "state": {
            "_model_module": "@jupyter-widgets/base",
            "_model_module_version": "1.2.0",
            "_model_name": "LayoutModel",
            "_view_count": null,
            "_view_module": "@jupyter-widgets/base",
            "_view_module_version": "1.2.0",
            "_view_name": "LayoutView",
            "align_content": null,
            "align_items": null,
            "align_self": null,
            "border": null,
            "bottom": null,
            "display": null,
            "flex": null,
            "flex_flow": null,
            "grid_area": null,
            "grid_auto_columns": null,
            "grid_auto_flow": null,
            "grid_auto_rows": null,
            "grid_column": null,
            "grid_gap": null,
            "grid_row": null,
            "grid_template_areas": null,
            "grid_template_columns": null,
            "grid_template_rows": null,
            "height": null,
            "justify_content": null,
            "justify_items": null,
            "left": null,
            "margin": null,
            "max_height": null,
            "max_width": null,
            "min_height": null,
            "min_width": null,
            "object_fit": null,
            "object_position": null,
            "order": null,
            "overflow": null,
            "overflow_x": null,
            "overflow_y": null,
            "padding": null,
            "right": null,
            "top": null,
            "visibility": null,
            "width": null
          }
        },
        "408a6972ab89477fa6e537acbd2837ac": {
          "model_module": "@jupyter-widgets/controls",
          "model_module_version": "1.5.0",
          "model_name": "FloatProgressModel",
          "state": {
            "_dom_classes": [],
            "_model_module": "@jupyter-widgets/controls",
            "_model_module_version": "1.5.0",
            "_model_name": "FloatProgressModel",
            "_view_count": null,
            "_view_module": "@jupyter-widgets/controls",
            "_view_module_version": "1.5.0",
            "_view_name": "ProgressView",
            "bar_style": "success",
            "description": "",
            "description_tooltip": null,
            "layout": "IPY_MODEL_4052aec12ded46f480a65af73e727fb4",
            "max": 231508,
            "min": 0,
            "orientation": "horizontal",
            "style": "IPY_MODEL_96373b321bdc49ba95c078f137e69520",
            "value": 231508
          }
        },
        "446aaeab24144ce8a594dc6150fbb5f8": {
          "model_module": "@jupyter-widgets/controls",
          "model_module_version": "1.5.0",
          "model_name": "FloatProgressModel",
          "state": {
            "_dom_classes": [],
            "_model_module": "@jupyter-widgets/controls",
            "_model_module_version": "1.5.0",
            "_model_name": "FloatProgressModel",
            "_view_count": null,
            "_view_module": "@jupyter-widgets/controls",
            "_view_module_version": "1.5.0",
            "_view_name": "ProgressView",
            "bar_style": "success",
            "description": "",
            "description_tooltip": null,
            "layout": "IPY_MODEL_89afd9659f9a4095ac151c312c6d6f72",
            "max": 440449768,
            "min": 0,
            "orientation": "horizontal",
            "style": "IPY_MODEL_5bea3a8fa7734d478fb0651eea2cc04a",
            "value": 440449768
          }
        },
        "48910f96375b45428187885dca06aaf7": {
          "model_module": "@jupyter-widgets/controls",
          "model_module_version": "1.5.0",
          "model_name": "FloatProgressModel",
          "state": {
            "_dom_classes": [],
            "_model_module": "@jupyter-widgets/controls",
            "_model_module_version": "1.5.0",
            "_model_name": "FloatProgressModel",
            "_view_count": null,
            "_view_module": "@jupyter-widgets/controls",
            "_view_module_version": "1.5.0",
            "_view_name": "ProgressView",
            "bar_style": "success",
            "description": "",
            "description_tooltip": null,
            "layout": "IPY_MODEL_f4e423e279ad457db62d64183c58ffac",
            "max": 466062,
            "min": 0,
            "orientation": "horizontal",
            "style": "IPY_MODEL_d1f3ab40f3074da498776fbb01704007",
            "value": 466062
          }
        },
        "492d9a0acacd4c2ab977386e72ee7466": {
          "model_module": "@jupyter-widgets/base",
          "model_module_version": "1.2.0",
          "model_name": "LayoutModel",
          "state": {
            "_model_module": "@jupyter-widgets/base",
            "_model_module_version": "1.2.0",
            "_model_name": "LayoutModel",
            "_view_count": null,
            "_view_module": "@jupyter-widgets/base",
            "_view_module_version": "1.2.0",
            "_view_name": "LayoutView",
            "align_content": null,
            "align_items": null,
            "align_self": null,
            "border": null,
            "bottom": null,
            "display": null,
            "flex": null,
            "flex_flow": null,
            "grid_area": null,
            "grid_auto_columns": null,
            "grid_auto_flow": null,
            "grid_auto_rows": null,
            "grid_column": null,
            "grid_gap": null,
            "grid_row": null,
            "grid_template_areas": null,
            "grid_template_columns": null,
            "grid_template_rows": null,
            "height": null,
            "justify_content": null,
            "justify_items": null,
            "left": null,
            "margin": null,
            "max_height": null,
            "max_width": null,
            "min_height": null,
            "min_width": null,
            "object_fit": null,
            "object_position": null,
            "order": null,
            "overflow": null,
            "overflow_x": null,
            "overflow_y": null,
            "padding": null,
            "right": null,
            "top": null,
            "visibility": null,
            "width": null
          }
        },
        "498c11ea336d40bc9335e982540a093f": {
          "model_module": "@jupyter-widgets/controls",
          "model_module_version": "1.5.0",
          "model_name": "DescriptionStyleModel",
          "state": {
            "_model_module": "@jupyter-widgets/controls",
            "_model_module_version": "1.5.0",
            "_model_name": "DescriptionStyleModel",
            "_view_count": null,
            "_view_module": "@jupyter-widgets/base",
            "_view_module_version": "1.2.0",
            "_view_name": "StyleView",
            "description_width": ""
          }
        },
        "4ffb57bd0e50462fab7a347ffbe67007": {
          "model_module": "@jupyter-widgets/controls",
          "model_module_version": "1.5.0",
          "model_name": "DescriptionStyleModel",
          "state": {
            "_model_module": "@jupyter-widgets/controls",
            "_model_module_version": "1.5.0",
            "_model_name": "DescriptionStyleModel",
            "_view_count": null,
            "_view_module": "@jupyter-widgets/base",
            "_view_module_version": "1.2.0",
            "_view_name": "StyleView",
            "description_width": ""
          }
        },
        "5603aae0fba04095acb586917d8ec337": {
          "model_module": "@jupyter-widgets/base",
          "model_module_version": "1.2.0",
          "model_name": "LayoutModel",
          "state": {
            "_model_module": "@jupyter-widgets/base",
            "_model_module_version": "1.2.0",
            "_model_name": "LayoutModel",
            "_view_count": null,
            "_view_module": "@jupyter-widgets/base",
            "_view_module_version": "1.2.0",
            "_view_name": "LayoutView",
            "align_content": null,
            "align_items": null,
            "align_self": null,
            "border": null,
            "bottom": null,
            "display": null,
            "flex": null,
            "flex_flow": null,
            "grid_area": null,
            "grid_auto_columns": null,
            "grid_auto_flow": null,
            "grid_auto_rows": null,
            "grid_column": null,
            "grid_gap": null,
            "grid_row": null,
            "grid_template_areas": null,
            "grid_template_columns": null,
            "grid_template_rows": null,
            "height": null,
            "justify_content": null,
            "justify_items": null,
            "left": null,
            "margin": null,
            "max_height": null,
            "max_width": null,
            "min_height": null,
            "min_width": null,
            "object_fit": null,
            "object_position": null,
            "order": null,
            "overflow": null,
            "overflow_x": null,
            "overflow_y": null,
            "padding": null,
            "right": null,
            "top": null,
            "visibility": null,
            "width": null
          }
        },
        "5895c3d77ded4c158cfa830530b17d01": {
          "model_module": "@jupyter-widgets/controls",
          "model_module_version": "1.5.0",
          "model_name": "HTMLModel",
          "state": {
            "_dom_classes": [],
            "_model_module": "@jupyter-widgets/controls",
            "_model_module_version": "1.5.0",
            "_model_name": "HTMLModel",
            "_view_count": null,
            "_view_module": "@jupyter-widgets/controls",
            "_view_module_version": "1.5.0",
            "_view_name": "HTMLView",
            "description": "",
            "description_tooltip": null,
            "layout": "IPY_MODEL_492d9a0acacd4c2ab977386e72ee7466",
            "placeholder": "​",
            "style": "IPY_MODEL_77dc892327844fa8bead40f12dcf6563",
            "value": " 48.0/48.0 [00:00&lt;00:00, 2.58kB/s]"
          }
        },
        "5907c158aed7491c8efa35ef459c0a71": {
          "model_module": "@jupyter-widgets/base",
          "model_module_version": "1.2.0",
          "model_name": "LayoutModel",
          "state": {
            "_model_module": "@jupyter-widgets/base",
            "_model_module_version": "1.2.0",
            "_model_name": "LayoutModel",
            "_view_count": null,
            "_view_module": "@jupyter-widgets/base",
            "_view_module_version": "1.2.0",
            "_view_name": "LayoutView",
            "align_content": null,
            "align_items": null,
            "align_self": null,
            "border": null,
            "bottom": null,
            "display": null,
            "flex": null,
            "flex_flow": null,
            "grid_area": null,
            "grid_auto_columns": null,
            "grid_auto_flow": null,
            "grid_auto_rows": null,
            "grid_column": null,
            "grid_gap": null,
            "grid_row": null,
            "grid_template_areas": null,
            "grid_template_columns": null,
            "grid_template_rows": null,
            "height": null,
            "justify_content": null,
            "justify_items": null,
            "left": null,
            "margin": null,
            "max_height": null,
            "max_width": null,
            "min_height": null,
            "min_width": null,
            "object_fit": null,
            "object_position": null,
            "order": null,
            "overflow": null,
            "overflow_x": null,
            "overflow_y": null,
            "padding": null,
            "right": null,
            "top": null,
            "visibility": null,
            "width": null
          }
        },
        "5a54824cf4cd47d0bd07249a90dd0d62": {
          "model_module": "@jupyter-widgets/controls",
          "model_module_version": "1.5.0",
          "model_name": "HBoxModel",
          "state": {
            "_dom_classes": [],
            "_model_module": "@jupyter-widgets/controls",
            "_model_module_version": "1.5.0",
            "_model_name": "HBoxModel",
            "_view_count": null,
            "_view_module": "@jupyter-widgets/controls",
            "_view_module_version": "1.5.0",
            "_view_name": "HBoxView",
            "box_style": "",
            "children": [
              "IPY_MODEL_f9d61acf0df643b3958ca70c58298e00",
              "IPY_MODEL_c45e6f38b183411897a8463ad7bf40e0",
              "IPY_MODEL_5895c3d77ded4c158cfa830530b17d01"
            ],
            "layout": "IPY_MODEL_eed6a07908754ef796fb8c7e21629623"
          }
        },
        "5bcd0c4207db42f2974fb4cb0f7b1afa": {
          "model_module": "@jupyter-widgets/controls",
          "model_module_version": "1.5.0",
          "model_name": "DescriptionStyleModel",
          "state": {
            "_model_module": "@jupyter-widgets/controls",
            "_model_module_version": "1.5.0",
            "_model_name": "DescriptionStyleModel",
            "_view_count": null,
            "_view_module": "@jupyter-widgets/base",
            "_view_module_version": "1.2.0",
            "_view_name": "StyleView",
            "description_width": ""
          }
        },
        "5bea3a8fa7734d478fb0651eea2cc04a": {
          "model_module": "@jupyter-widgets/controls",
          "model_module_version": "1.5.0",
          "model_name": "ProgressStyleModel",
          "state": {
            "_model_module": "@jupyter-widgets/controls",
            "_model_module_version": "1.5.0",
            "_model_name": "ProgressStyleModel",
            "_view_count": null,
            "_view_module": "@jupyter-widgets/base",
            "_view_module_version": "1.2.0",
            "_view_name": "StyleView",
            "bar_color": null,
            "description_width": ""
          }
        },
        "5f141eb61e904914a773eb1075661c26": {
          "model_module": "@jupyter-widgets/base",
          "model_module_version": "1.2.0",
          "model_name": "LayoutModel",
          "state": {
            "_model_module": "@jupyter-widgets/base",
            "_model_module_version": "1.2.0",
            "_model_name": "LayoutModel",
            "_view_count": null,
            "_view_module": "@jupyter-widgets/base",
            "_view_module_version": "1.2.0",
            "_view_name": "LayoutView",
            "align_content": null,
            "align_items": null,
            "align_self": null,
            "border": null,
            "bottom": null,
            "display": null,
            "flex": null,
            "flex_flow": null,
            "grid_area": null,
            "grid_auto_columns": null,
            "grid_auto_flow": null,
            "grid_auto_rows": null,
            "grid_column": null,
            "grid_gap": null,
            "grid_row": null,
            "grid_template_areas": null,
            "grid_template_columns": null,
            "grid_template_rows": null,
            "height": null,
            "justify_content": null,
            "justify_items": null,
            "left": null,
            "margin": null,
            "max_height": null,
            "max_width": null,
            "min_height": null,
            "min_width": null,
            "object_fit": null,
            "object_position": null,
            "order": null,
            "overflow": null,
            "overflow_x": null,
            "overflow_y": null,
            "padding": null,
            "right": null,
            "top": null,
            "visibility": null,
            "width": null
          }
        },
        "6a0f6cafdd9c401ca7af4954c78644b6": {
          "model_module": "@jupyter-widgets/controls",
          "model_module_version": "1.5.0",
          "model_name": "HBoxModel",
          "state": {
            "_dom_classes": [],
            "_model_module": "@jupyter-widgets/controls",
            "_model_module_version": "1.5.0",
            "_model_name": "HBoxModel",
            "_view_count": null,
            "_view_module": "@jupyter-widgets/controls",
            "_view_module_version": "1.5.0",
            "_view_name": "HBoxView",
            "box_style": "",
            "children": [
              "IPY_MODEL_e67f172b1cd04fc69267a5a458e98d4b",
              "IPY_MODEL_446aaeab24144ce8a594dc6150fbb5f8",
              "IPY_MODEL_ed6c5e7343f74b458925d526e5ceb32c"
            ],
            "layout": "IPY_MODEL_5907c158aed7491c8efa35ef459c0a71"
          }
        },
        "6cf3edc69014449ab8c6cb3d785ab2ab": {
          "model_module": "@jupyter-widgets/controls",
          "model_module_version": "1.5.0",
          "model_name": "ProgressStyleModel",
          "state": {
            "_model_module": "@jupyter-widgets/controls",
            "_model_module_version": "1.5.0",
            "_model_name": "ProgressStyleModel",
            "_view_count": null,
            "_view_module": "@jupyter-widgets/base",
            "_view_module_version": "1.2.0",
            "_view_name": "StyleView",
            "bar_color": null,
            "description_width": ""
          }
        },
        "72156e8554e3412699ed32b68a9e7e45": {
          "model_module": "@jupyter-widgets/controls",
          "model_module_version": "1.5.0",
          "model_name": "HBoxModel",
          "state": {
            "_dom_classes": [],
            "_model_module": "@jupyter-widgets/controls",
            "_model_module_version": "1.5.0",
            "_model_name": "HBoxModel",
            "_view_count": null,
            "_view_module": "@jupyter-widgets/controls",
            "_view_module_version": "1.5.0",
            "_view_name": "HBoxView",
            "box_style": "",
            "children": [
              "IPY_MODEL_3564e5bf72fe49969b6f6464239df6bb",
              "IPY_MODEL_408a6972ab89477fa6e537acbd2837ac",
              "IPY_MODEL_362e5f2340744ad782ceaae905e52b69"
            ],
            "layout": "IPY_MODEL_ad987afeee20445795c9d3424c176bc5"
          }
        },
        "77dc892327844fa8bead40f12dcf6563": {
          "model_module": "@jupyter-widgets/controls",
          "model_module_version": "1.5.0",
          "model_name": "DescriptionStyleModel",
          "state": {
            "_model_module": "@jupyter-widgets/controls",
            "_model_module_version": "1.5.0",
            "_model_name": "DescriptionStyleModel",
            "_view_count": null,
            "_view_module": "@jupyter-widgets/base",
            "_view_module_version": "1.2.0",
            "_view_name": "StyleView",
            "description_width": ""
          }
        },
        "7e861c067c4b4464897a8fdfc610db86": {
          "model_module": "@jupyter-widgets/base",
          "model_module_version": "1.2.0",
          "model_name": "LayoutModel",
          "state": {
            "_model_module": "@jupyter-widgets/base",
            "_model_module_version": "1.2.0",
            "_model_name": "LayoutModel",
            "_view_count": null,
            "_view_module": "@jupyter-widgets/base",
            "_view_module_version": "1.2.0",
            "_view_name": "LayoutView",
            "align_content": null,
            "align_items": null,
            "align_self": null,
            "border": null,
            "bottom": null,
            "display": null,
            "flex": null,
            "flex_flow": null,
            "grid_area": null,
            "grid_auto_columns": null,
            "grid_auto_flow": null,
            "grid_auto_rows": null,
            "grid_column": null,
            "grid_gap": null,
            "grid_row": null,
            "grid_template_areas": null,
            "grid_template_columns": null,
            "grid_template_rows": null,
            "height": null,
            "justify_content": null,
            "justify_items": null,
            "left": null,
            "margin": null,
            "max_height": null,
            "max_width": null,
            "min_height": null,
            "min_width": null,
            "object_fit": null,
            "object_position": null,
            "order": null,
            "overflow": null,
            "overflow_x": null,
            "overflow_y": null,
            "padding": null,
            "right": null,
            "top": null,
            "visibility": null,
            "width": null
          }
        },
        "80c8344edb644d10ad1a27ecd3da5950": {
          "model_module": "@jupyter-widgets/base",
          "model_module_version": "1.2.0",
          "model_name": "LayoutModel",
          "state": {
            "_model_module": "@jupyter-widgets/base",
            "_model_module_version": "1.2.0",
            "_model_name": "LayoutModel",
            "_view_count": null,
            "_view_module": "@jupyter-widgets/base",
            "_view_module_version": "1.2.0",
            "_view_name": "LayoutView",
            "align_content": null,
            "align_items": null,
            "align_self": null,
            "border": null,
            "bottom": null,
            "display": null,
            "flex": null,
            "flex_flow": null,
            "grid_area": null,
            "grid_auto_columns": null,
            "grid_auto_flow": null,
            "grid_auto_rows": null,
            "grid_column": null,
            "grid_gap": null,
            "grid_row": null,
            "grid_template_areas": null,
            "grid_template_columns": null,
            "grid_template_rows": null,
            "height": null,
            "justify_content": null,
            "justify_items": null,
            "left": null,
            "margin": null,
            "max_height": null,
            "max_width": null,
            "min_height": null,
            "min_width": null,
            "object_fit": null,
            "object_position": null,
            "order": null,
            "overflow": null,
            "overflow_x": null,
            "overflow_y": null,
            "padding": null,
            "right": null,
            "top": null,
            "visibility": null,
            "width": null
          }
        },
        "89afd9659f9a4095ac151c312c6d6f72": {
          "model_module": "@jupyter-widgets/base",
          "model_module_version": "1.2.0",
          "model_name": "LayoutModel",
          "state": {
            "_model_module": "@jupyter-widgets/base",
            "_model_module_version": "1.2.0",
            "_model_name": "LayoutModel",
            "_view_count": null,
            "_view_module": "@jupyter-widgets/base",
            "_view_module_version": "1.2.0",
            "_view_name": "LayoutView",
            "align_content": null,
            "align_items": null,
            "align_self": null,
            "border": null,
            "bottom": null,
            "display": null,
            "flex": null,
            "flex_flow": null,
            "grid_area": null,
            "grid_auto_columns": null,
            "grid_auto_flow": null,
            "grid_auto_rows": null,
            "grid_column": null,
            "grid_gap": null,
            "grid_row": null,
            "grid_template_areas": null,
            "grid_template_columns": null,
            "grid_template_rows": null,
            "height": null,
            "justify_content": null,
            "justify_items": null,
            "left": null,
            "margin": null,
            "max_height": null,
            "max_width": null,
            "min_height": null,
            "min_width": null,
            "object_fit": null,
            "object_position": null,
            "order": null,
            "overflow": null,
            "overflow_x": null,
            "overflow_y": null,
            "padding": null,
            "right": null,
            "top": null,
            "visibility": null,
            "width": null
          }
        },
        "8cf8d6e0eb3f4fdda1ad2af3cbfe287c": {
          "model_module": "@jupyter-widgets/base",
          "model_module_version": "1.2.0",
          "model_name": "LayoutModel",
          "state": {
            "_model_module": "@jupyter-widgets/base",
            "_model_module_version": "1.2.0",
            "_model_name": "LayoutModel",
            "_view_count": null,
            "_view_module": "@jupyter-widgets/base",
            "_view_module_version": "1.2.0",
            "_view_name": "LayoutView",
            "align_content": null,
            "align_items": null,
            "align_self": null,
            "border": null,
            "bottom": null,
            "display": null,
            "flex": null,
            "flex_flow": null,
            "grid_area": null,
            "grid_auto_columns": null,
            "grid_auto_flow": null,
            "grid_auto_rows": null,
            "grid_column": null,
            "grid_gap": null,
            "grid_row": null,
            "grid_template_areas": null,
            "grid_template_columns": null,
            "grid_template_rows": null,
            "height": null,
            "justify_content": null,
            "justify_items": null,
            "left": null,
            "margin": null,
            "max_height": null,
            "max_width": null,
            "min_height": null,
            "min_width": null,
            "object_fit": null,
            "object_position": null,
            "order": null,
            "overflow": null,
            "overflow_x": null,
            "overflow_y": null,
            "padding": null,
            "right": null,
            "top": null,
            "visibility": null,
            "width": null
          }
        },
        "8db76583449a4e82a2314c9764ae8ce8": {
          "model_module": "@jupyter-widgets/controls",
          "model_module_version": "1.5.0",
          "model_name": "HBoxModel",
          "state": {
            "_dom_classes": [],
            "_model_module": "@jupyter-widgets/controls",
            "_model_module_version": "1.5.0",
            "_model_name": "HBoxModel",
            "_view_count": null,
            "_view_module": "@jupyter-widgets/controls",
            "_view_module_version": "1.5.0",
            "_view_name": "HBoxView",
            "box_style": "",
            "children": [
              "IPY_MODEL_237aaa3eaab84ca48dce11e00fb90e0c",
              "IPY_MODEL_bb13437f873243bd871ec6648669174b",
              "IPY_MODEL_ad2b2a38a5144736a3f36fb02189f481"
            ],
            "layout": "IPY_MODEL_7e861c067c4b4464897a8fdfc610db86"
          }
        },
        "9537a8b62a6d4e40b9e5e04f2b6a4c75": {
          "model_module": "@jupyter-widgets/base",
          "model_module_version": "1.2.0",
          "model_name": "LayoutModel",
          "state": {
            "_model_module": "@jupyter-widgets/base",
            "_model_module_version": "1.2.0",
            "_model_name": "LayoutModel",
            "_view_count": null,
            "_view_module": "@jupyter-widgets/base",
            "_view_module_version": "1.2.0",
            "_view_name": "LayoutView",
            "align_content": null,
            "align_items": null,
            "align_self": null,
            "border": null,
            "bottom": null,
            "display": null,
            "flex": null,
            "flex_flow": null,
            "grid_area": null,
            "grid_auto_columns": null,
            "grid_auto_flow": null,
            "grid_auto_rows": null,
            "grid_column": null,
            "grid_gap": null,
            "grid_row": null,
            "grid_template_areas": null,
            "grid_template_columns": null,
            "grid_template_rows": null,
            "height": null,
            "justify_content": null,
            "justify_items": null,
            "left": null,
            "margin": null,
            "max_height": null,
            "max_width": null,
            "min_height": null,
            "min_width": null,
            "object_fit": null,
            "object_position": null,
            "order": null,
            "overflow": null,
            "overflow_x": null,
            "overflow_y": null,
            "padding": null,
            "right": null,
            "top": null,
            "visibility": null,
            "width": null
          }
        },
        "96373b321bdc49ba95c078f137e69520": {
          "model_module": "@jupyter-widgets/controls",
          "model_module_version": "1.5.0",
          "model_name": "ProgressStyleModel",
          "state": {
            "_model_module": "@jupyter-widgets/controls",
            "_model_module_version": "1.5.0",
            "_model_name": "ProgressStyleModel",
            "_view_count": null,
            "_view_module": "@jupyter-widgets/base",
            "_view_module_version": "1.2.0",
            "_view_name": "StyleView",
            "bar_color": null,
            "description_width": ""
          }
        },
        "a2133e180cb74c66bc1f5f31b52b6db5": {
          "model_module": "@jupyter-widgets/controls",
          "model_module_version": "1.5.0",
          "model_name": "HTMLModel",
          "state": {
            "_dom_classes": [],
            "_model_module": "@jupyter-widgets/controls",
            "_model_module_version": "1.5.0",
            "_model_name": "HTMLModel",
            "_view_count": null,
            "_view_module": "@jupyter-widgets/controls",
            "_view_module_version": "1.5.0",
            "_view_name": "HTMLView",
            "description": "",
            "description_tooltip": null,
            "layout": "IPY_MODEL_302523a9d64246479978c92aa9f3233f",
            "placeholder": "​",
            "style": "IPY_MODEL_5bcd0c4207db42f2974fb4cb0f7b1afa",
            "value": " 466k/466k [00:00&lt;00:00, 9.57MB/s]"
          }
        },
        "ad2b2a38a5144736a3f36fb02189f481": {
          "model_module": "@jupyter-widgets/controls",
          "model_module_version": "1.5.0",
          "model_name": "HTMLModel",
          "state": {
            "_dom_classes": [],
            "_model_module": "@jupyter-widgets/controls",
            "_model_module_version": "1.5.0",
            "_model_name": "HTMLModel",
            "_view_count": null,
            "_view_module": "@jupyter-widgets/controls",
            "_view_module_version": "1.5.0",
            "_view_name": "HTMLView",
            "description": "",
            "description_tooltip": null,
            "layout": "IPY_MODEL_2b03818cd75044aaad2a8c58bf790d9a",
            "placeholder": "​",
            "style": "IPY_MODEL_e2ac7a816be04ef3a07618b2d1601e21",
            "value": " 570/570 [00:00&lt;00:00, 52.3kB/s]"
          }
        },
        "ad987afeee20445795c9d3424c176bc5": {
          "model_module": "@jupyter-widgets/base",
          "model_module_version": "1.2.0",
          "model_name": "LayoutModel",
          "state": {
            "_model_module": "@jupyter-widgets/base",
            "_model_module_version": "1.2.0",
            "_model_name": "LayoutModel",
            "_view_count": null,
            "_view_module": "@jupyter-widgets/base",
            "_view_module_version": "1.2.0",
            "_view_name": "LayoutView",
            "align_content": null,
            "align_items": null,
            "align_self": null,
            "border": null,
            "bottom": null,
            "display": null,
            "flex": null,
            "flex_flow": null,
            "grid_area": null,
            "grid_auto_columns": null,
            "grid_auto_flow": null,
            "grid_auto_rows": null,
            "grid_column": null,
            "grid_gap": null,
            "grid_row": null,
            "grid_template_areas": null,
            "grid_template_columns": null,
            "grid_template_rows": null,
            "height": null,
            "justify_content": null,
            "justify_items": null,
            "left": null,
            "margin": null,
            "max_height": null,
            "max_width": null,
            "min_height": null,
            "min_width": null,
            "object_fit": null,
            "object_position": null,
            "order": null,
            "overflow": null,
            "overflow_x": null,
            "overflow_y": null,
            "padding": null,
            "right": null,
            "top": null,
            "visibility": null,
            "width": null
          }
        },
        "b0f5eb92baa143ad85fa02d64302947c": {
          "model_module": "@jupyter-widgets/controls",
          "model_module_version": "1.5.0",
          "model_name": "DescriptionStyleModel",
          "state": {
            "_model_module": "@jupyter-widgets/controls",
            "_model_module_version": "1.5.0",
            "_model_name": "DescriptionStyleModel",
            "_view_count": null,
            "_view_module": "@jupyter-widgets/base",
            "_view_module_version": "1.2.0",
            "_view_name": "StyleView",
            "description_width": ""
          }
        },
        "bb13437f873243bd871ec6648669174b": {
          "model_module": "@jupyter-widgets/controls",
          "model_module_version": "1.5.0",
          "model_name": "FloatProgressModel",
          "state": {
            "_dom_classes": [],
            "_model_module": "@jupyter-widgets/controls",
            "_model_module_version": "1.5.0",
            "_model_name": "FloatProgressModel",
            "_view_count": null,
            "_view_module": "@jupyter-widgets/controls",
            "_view_module_version": "1.5.0",
            "_view_name": "ProgressView",
            "bar_style": "success",
            "description": "",
            "description_tooltip": null,
            "layout": "IPY_MODEL_1e32ffc3c25942f4bf2b747a3f23c92f",
            "max": 570,
            "min": 0,
            "orientation": "horizontal",
            "style": "IPY_MODEL_0a4958331724451fbab1eacb7db43833",
            "value": 570
          }
        },
        "c45e6f38b183411897a8463ad7bf40e0": {
          "model_module": "@jupyter-widgets/controls",
          "model_module_version": "1.5.0",
          "model_name": "FloatProgressModel",
          "state": {
            "_dom_classes": [],
            "_model_module": "@jupyter-widgets/controls",
            "_model_module_version": "1.5.0",
            "_model_name": "FloatProgressModel",
            "_view_count": null,
            "_view_module": "@jupyter-widgets/controls",
            "_view_module_version": "1.5.0",
            "_view_name": "ProgressView",
            "bar_style": "success",
            "description": "",
            "description_tooltip": null,
            "layout": "IPY_MODEL_f4b5e2dc1f2c412186ab2dafb768fd8b",
            "max": 48,
            "min": 0,
            "orientation": "horizontal",
            "style": "IPY_MODEL_6cf3edc69014449ab8c6cb3d785ab2ab",
            "value": 48
          }
        },
        "c4f796c04d2f41289a64d9b9aa74bc1c": {
          "model_module": "@jupyter-widgets/base",
          "model_module_version": "1.2.0",
          "model_name": "LayoutModel",
          "state": {
            "_model_module": "@jupyter-widgets/base",
            "_model_module_version": "1.2.0",
            "_model_name": "LayoutModel",
            "_view_count": null,
            "_view_module": "@jupyter-widgets/base",
            "_view_module_version": "1.2.0",
            "_view_name": "LayoutView",
            "align_content": null,
            "align_items": null,
            "align_self": null,
            "border": null,
            "bottom": null,
            "display": null,
            "flex": null,
            "flex_flow": null,
            "grid_area": null,
            "grid_auto_columns": null,
            "grid_auto_flow": null,
            "grid_auto_rows": null,
            "grid_column": null,
            "grid_gap": null,
            "grid_row": null,
            "grid_template_areas": null,
            "grid_template_columns": null,
            "grid_template_rows": null,
            "height": null,
            "justify_content": null,
            "justify_items": null,
            "left": null,
            "margin": null,
            "max_height": null,
            "max_width": null,
            "min_height": null,
            "min_width": null,
            "object_fit": null,
            "object_position": null,
            "order": null,
            "overflow": null,
            "overflow_x": null,
            "overflow_y": null,
            "padding": null,
            "right": null,
            "top": null,
            "visibility": null,
            "width": null
          }
        },
        "d1f3ab40f3074da498776fbb01704007": {
          "model_module": "@jupyter-widgets/controls",
          "model_module_version": "1.5.0",
          "model_name": "ProgressStyleModel",
          "state": {
            "_model_module": "@jupyter-widgets/controls",
            "_model_module_version": "1.5.0",
            "_model_name": "ProgressStyleModel",
            "_view_count": null,
            "_view_module": "@jupyter-widgets/base",
            "_view_module_version": "1.2.0",
            "_view_name": "StyleView",
            "bar_color": null,
            "description_width": ""
          }
        },
        "e2ac7a816be04ef3a07618b2d1601e21": {
          "model_module": "@jupyter-widgets/controls",
          "model_module_version": "1.5.0",
          "model_name": "DescriptionStyleModel",
          "state": {
            "_model_module": "@jupyter-widgets/controls",
            "_model_module_version": "1.5.0",
            "_model_name": "DescriptionStyleModel",
            "_view_count": null,
            "_view_module": "@jupyter-widgets/base",
            "_view_module_version": "1.2.0",
            "_view_name": "StyleView",
            "description_width": ""
          }
        },
        "e487283498ee48b7a8fe1877c5df7034": {
          "model_module": "@jupyter-widgets/controls",
          "model_module_version": "1.5.0",
          "model_name": "HTMLModel",
          "state": {
            "_dom_classes": [],
            "_model_module": "@jupyter-widgets/controls",
            "_model_module_version": "1.5.0",
            "_model_name": "HTMLModel",
            "_view_count": null,
            "_view_module": "@jupyter-widgets/controls",
            "_view_module_version": "1.5.0",
            "_view_name": "HTMLView",
            "description": "",
            "description_tooltip": null,
            "layout": "IPY_MODEL_8cf8d6e0eb3f4fdda1ad2af3cbfe287c",
            "placeholder": "​",
            "style": "IPY_MODEL_498c11ea336d40bc9335e982540a093f",
            "value": "tokenizer.json: 100%"
          }
        },
        "e670d3ee6a7e4abea3b46cbd0a744ff2": {
          "model_module": "@jupyter-widgets/base",
          "model_module_version": "1.2.0",
          "model_name": "LayoutModel",
          "state": {
            "_model_module": "@jupyter-widgets/base",
            "_model_module_version": "1.2.0",
            "_model_name": "LayoutModel",
            "_view_count": null,
            "_view_module": "@jupyter-widgets/base",
            "_view_module_version": "1.2.0",
            "_view_name": "LayoutView",
            "align_content": null,
            "align_items": null,
            "align_self": null,
            "border": null,
            "bottom": null,
            "display": null,
            "flex": null,
            "flex_flow": null,
            "grid_area": null,
            "grid_auto_columns": null,
            "grid_auto_flow": null,
            "grid_auto_rows": null,
            "grid_column": null,
            "grid_gap": null,
            "grid_row": null,
            "grid_template_areas": null,
            "grid_template_columns": null,
            "grid_template_rows": null,
            "height": null,
            "justify_content": null,
            "justify_items": null,
            "left": null,
            "margin": null,
            "max_height": null,
            "max_width": null,
            "min_height": null,
            "min_width": null,
            "object_fit": null,
            "object_position": null,
            "order": null,
            "overflow": null,
            "overflow_x": null,
            "overflow_y": null,
            "padding": null,
            "right": null,
            "top": null,
            "visibility": null,
            "width": null
          }
        },
        "e67f172b1cd04fc69267a5a458e98d4b": {
          "model_module": "@jupyter-widgets/controls",
          "model_module_version": "1.5.0",
          "model_name": "HTMLModel",
          "state": {
            "_dom_classes": [],
            "_model_module": "@jupyter-widgets/controls",
            "_model_module_version": "1.5.0",
            "_model_name": "HTMLModel",
            "_view_count": null,
            "_view_module": "@jupyter-widgets/controls",
            "_view_module_version": "1.5.0",
            "_view_name": "HTMLView",
            "description": "",
            "description_tooltip": null,
            "layout": "IPY_MODEL_5603aae0fba04095acb586917d8ec337",
            "placeholder": "​",
            "style": "IPY_MODEL_efb3b461674f4f51b7c5e790d0ebca08",
            "value": "model.safetensors: 100%"
          }
        },
        "ed6c5e7343f74b458925d526e5ceb32c": {
          "model_module": "@jupyter-widgets/controls",
          "model_module_version": "1.5.0",
          "model_name": "HTMLModel",
          "state": {
            "_dom_classes": [],
            "_model_module": "@jupyter-widgets/controls",
            "_model_module_version": "1.5.0",
            "_model_name": "HTMLModel",
            "_view_count": null,
            "_view_module": "@jupyter-widgets/controls",
            "_view_module_version": "1.5.0",
            "_view_name": "HTMLView",
            "description": "",
            "description_tooltip": null,
            "layout": "IPY_MODEL_9537a8b62a6d4e40b9e5e04f2b6a4c75",
            "placeholder": "​",
            "style": "IPY_MODEL_4ffb57bd0e50462fab7a347ffbe67007",
            "value": " 440M/440M [00:11&lt;00:00, 36.5MB/s]"
          }
        },
        "eed6a07908754ef796fb8c7e21629623": {
          "model_module": "@jupyter-widgets/base",
          "model_module_version": "1.2.0",
          "model_name": "LayoutModel",
          "state": {
            "_model_module": "@jupyter-widgets/base",
            "_model_module_version": "1.2.0",
            "_model_name": "LayoutModel",
            "_view_count": null,
            "_view_module": "@jupyter-widgets/base",
            "_view_module_version": "1.2.0",
            "_view_name": "LayoutView",
            "align_content": null,
            "align_items": null,
            "align_self": null,
            "border": null,
            "bottom": null,
            "display": null,
            "flex": null,
            "flex_flow": null,
            "grid_area": null,
            "grid_auto_columns": null,
            "grid_auto_flow": null,
            "grid_auto_rows": null,
            "grid_column": null,
            "grid_gap": null,
            "grid_row": null,
            "grid_template_areas": null,
            "grid_template_columns": null,
            "grid_template_rows": null,
            "height": null,
            "justify_content": null,
            "justify_items": null,
            "left": null,
            "margin": null,
            "max_height": null,
            "max_width": null,
            "min_height": null,
            "min_width": null,
            "object_fit": null,
            "object_position": null,
            "order": null,
            "overflow": null,
            "overflow_x": null,
            "overflow_y": null,
            "padding": null,
            "right": null,
            "top": null,
            "visibility": null,
            "width": null
          }
        },
        "efb3b461674f4f51b7c5e790d0ebca08": {
          "model_module": "@jupyter-widgets/controls",
          "model_module_version": "1.5.0",
          "model_name": "DescriptionStyleModel",
          "state": {
            "_model_module": "@jupyter-widgets/controls",
            "_model_module_version": "1.5.0",
            "_model_name": "DescriptionStyleModel",
            "_view_count": null,
            "_view_module": "@jupyter-widgets/base",
            "_view_module_version": "1.2.0",
            "_view_name": "StyleView",
            "description_width": ""
          }
        },
        "f19ea63dc41140e68bd1f85ccdce4afa": {
          "model_module": "@jupyter-widgets/controls",
          "model_module_version": "1.5.0",
          "model_name": "DescriptionStyleModel",
          "state": {
            "_model_module": "@jupyter-widgets/controls",
            "_model_module_version": "1.5.0",
            "_model_name": "DescriptionStyleModel",
            "_view_count": null,
            "_view_module": "@jupyter-widgets/base",
            "_view_module_version": "1.2.0",
            "_view_name": "StyleView",
            "description_width": ""
          }
        },
        "f4b5e2dc1f2c412186ab2dafb768fd8b": {
          "model_module": "@jupyter-widgets/base",
          "model_module_version": "1.2.0",
          "model_name": "LayoutModel",
          "state": {
            "_model_module": "@jupyter-widgets/base",
            "_model_module_version": "1.2.0",
            "_model_name": "LayoutModel",
            "_view_count": null,
            "_view_module": "@jupyter-widgets/base",
            "_view_module_version": "1.2.0",
            "_view_name": "LayoutView",
            "align_content": null,
            "align_items": null,
            "align_self": null,
            "border": null,
            "bottom": null,
            "display": null,
            "flex": null,
            "flex_flow": null,
            "grid_area": null,
            "grid_auto_columns": null,
            "grid_auto_flow": null,
            "grid_auto_rows": null,
            "grid_column": null,
            "grid_gap": null,
            "grid_row": null,
            "grid_template_areas": null,
            "grid_template_columns": null,
            "grid_template_rows": null,
            "height": null,
            "justify_content": null,
            "justify_items": null,
            "left": null,
            "margin": null,
            "max_height": null,
            "max_width": null,
            "min_height": null,
            "min_width": null,
            "object_fit": null,
            "object_position": null,
            "order": null,
            "overflow": null,
            "overflow_x": null,
            "overflow_y": null,
            "padding": null,
            "right": null,
            "top": null,
            "visibility": null,
            "width": null
          }
        },
        "f4e423e279ad457db62d64183c58ffac": {
          "model_module": "@jupyter-widgets/base",
          "model_module_version": "1.2.0",
          "model_name": "LayoutModel",
          "state": {
            "_model_module": "@jupyter-widgets/base",
            "_model_module_version": "1.2.0",
            "_model_name": "LayoutModel",
            "_view_count": null,
            "_view_module": "@jupyter-widgets/base",
            "_view_module_version": "1.2.0",
            "_view_name": "LayoutView",
            "align_content": null,
            "align_items": null,
            "align_self": null,
            "border": null,
            "bottom": null,
            "display": null,
            "flex": null,
            "flex_flow": null,
            "grid_area": null,
            "grid_auto_columns": null,
            "grid_auto_flow": null,
            "grid_auto_rows": null,
            "grid_column": null,
            "grid_gap": null,
            "grid_row": null,
            "grid_template_areas": null,
            "grid_template_columns": null,
            "grid_template_rows": null,
            "height": null,
            "justify_content": null,
            "justify_items": null,
            "left": null,
            "margin": null,
            "max_height": null,
            "max_width": null,
            "min_height": null,
            "min_width": null,
            "object_fit": null,
            "object_position": null,
            "order": null,
            "overflow": null,
            "overflow_x": null,
            "overflow_y": null,
            "padding": null,
            "right": null,
            "top": null,
            "visibility": null,
            "width": null
          }
        },
        "f9d61acf0df643b3958ca70c58298e00": {
          "model_module": "@jupyter-widgets/controls",
          "model_module_version": "1.5.0",
          "model_name": "HTMLModel",
          "state": {
            "_dom_classes": [],
            "_model_module": "@jupyter-widgets/controls",
            "_model_module_version": "1.5.0",
            "_model_name": "HTMLModel",
            "_view_count": null,
            "_view_module": "@jupyter-widgets/controls",
            "_view_module_version": "1.5.0",
            "_view_name": "HTMLView",
            "description": "",
            "description_tooltip": null,
            "layout": "IPY_MODEL_1f1201f067f149ab9ccd065b791d44bf",
            "placeholder": "​",
            "style": "IPY_MODEL_1286477a6bff4d919989ba34e8970490",
            "value": "tokenizer_config.json: 100%"
          }
        }
      }
    }
  },
  "nbformat": 4,
  "nbformat_minor": 0
}
