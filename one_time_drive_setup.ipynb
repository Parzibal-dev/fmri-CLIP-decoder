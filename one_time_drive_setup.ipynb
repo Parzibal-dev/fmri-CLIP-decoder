{
 "cells": [
  {
   "cell_type": "markdown",
   "id": "a1f76404",
   "metadata": {},
   "source": [
    "Just a script to embed all of the textual and image data in CLIP and save the embeddings in the drive folder"
   ]
  },
  {
   "cell_type": "code",
   "execution_count": 2,
   "id": "3634030f",
   "metadata": {},
   "outputs": [],
   "source": [
    "import os, numpy as np, torch\n",
    "from PIL import Image\n",
    "\n",
    "# Helper\n",
    "def mean_pool(folder, model, preprocess):\n",
    "    jpgs = [f for f in os.listdir(folder) if f.endswith(\".jpg\")]\n",
    "    if not jpgs:\n",
    "        return np.zeros(512, dtype=np.float32)\n",
    "    batch = torch.stack([preprocess(Image.open(folder / f)) for f in jpgs])\n",
    "    with torch.no_grad():\n",
    "        vecs = model.encode_image(batch)\n",
    "    vecs = vecs / vecs.norm(dim=-1, keepdim=True)\n",
    "    mean = vecs.mean(dim=0)\n",
    "    return (mean / mean.norm()).cpu().numpy()\n"
   ]
  },
  {
   "cell_type": "code",
   "execution_count": null,
   "id": "5497e72c",
   "metadata": {},
   "outputs": [],
   "source": [
    "from pathlib import Path\n",
    "import numpy as np, torch, clip\n",
    "from tqdm import tqdm\n",
    "\n",
    "# -------------------------------------------------------------------------\n",
    "drive_root = Path(r\"G:/\")\n",
    "PROJ_DIR   = drive_root / \".shortcut-targets-by-id/1CwmFOsYFnq6t33KAzpvw0gaOTQXbcozs/brain-decoder-files\"\n",
    "\n",
    "assert PROJ_DIR.is_dir(), f\"{PROJ_DIR} does not exist – check the path!\"\n",
    "\n",
    "images_dir = PROJ_DIR / \"experiment-images\"\n",
    "text_npz   = PROJ_DIR / \"clip_text_embeddings.npz\"\n",
    "image_npz  = PROJ_DIR / \"clip_image_embeddings.npz\"\n",
    "# -------------------------------------------------------------------------\n",
    "\n",
    "device = \"cuda\" if torch.cuda.is_available() else \"cpu\"\n",
    "model, preprocess = clip.load(\"ViT-L/14@336px\", device=device)\n",
    "concepts = np.genfromtxt(PROJ_DIR / \"concepts.txt\", dtype=str)\n",
    "\n",
    "# ---- text embeddings -----------------------------------------------------\n",
    "with torch.no_grad():\n",
    "    toks = clip.tokenize([f\"A photo of {c}\" for c in concepts]).to(device)\n",
    "    txt  = model.encode_text(toks)\n",
    "    txt  = txt / txt.norm(dim=-1, keepdim=True)\n",
    "np.savez_compressed(text_npz, data=txt.cpu().numpy().astype(np.float32))\n",
    "print(\"Text vectors saved to\", text_npz)\n",
    "\n",
    "# ---- image embeddings ----------------------------------------------------\n",
    "imgs = [mean_pool(images_dir / c, model, preprocess) for c in tqdm(concepts, desc=\"images\")]\n",
    "np.savez_compressed(image_npz, data=np.stack(imgs, dtype=np.float32))\n",
    "print(\"Image vectors saved to\", image_npz)\n"
   ]
  }
 ],
 "metadata": {
  "kernelspec": {
   "display_name": ".conda",
   "language": "python",
   "name": "python3"
  },
  "language_info": {
   "codemirror_mode": {
    "name": "ipython",
    "version": 3
   },
   "file_extension": ".py",
   "mimetype": "text/x-python",
   "name": "python",
   "nbconvert_exporter": "python",
   "pygments_lexer": "ipython3",
   "version": "3.12.11"
  }
 },
 "nbformat": 4,
 "nbformat_minor": 5
}
